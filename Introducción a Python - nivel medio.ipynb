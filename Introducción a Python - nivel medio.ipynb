{
 "cells": [
  {
   "cell_type": "markdown",
   "metadata": {},
   "source": [
    "# Introducción a Python: nivel intermedio\n",
    "\n",
    "Python es un lenguaje muy extendido, con una rica comunidad que abarca muchos aspectos, muy fácil de aprender y programar con él, y que nos permite realizar un montón de tareas diferentes. Pero, no solo de pan vive. Python tiene muchas _librerías_ o _módulos_ que nos facilitan muchas tareas, que están respaldados por un gran número de personas detrás y que en muchos casos, realizan tareas específicas de una manera mucho más eficiente que haciéndolo puramente en Python.\n",
    "\n",
    "Este es el caso de librerías como ___NumPy___, ___Pandas___, ___scikit-learn___, ___Django___ y muchísimas más. \n",
    "\n",
    "Además de esto, aunque Python sea un lenguaje puramente imperativo, nos permite simular lo que se conoce como programación funcional, que viene directamente del _Lambda Calculus_, gracias al uso de las funciones ___lambda___.\n",
    "\n",
    "A continuación, veremos una introducción a _NumPy_ que nos sirve como puerta de entrada a un montón de módulos más, y la programación funcional con las funciones _lambda_.\n",
    "\n",
    "## NumPy\n",
    "\n",
    "NumPy es el paquete central que usaremos para tareas como ciencia de datos, o muchos cálculos matemáticos que requieren el uso de estructuras algebraicas como los vectores y matrices. Este paquete tiene la ventaja de que podemos trabajar cómodamente con la sintaxis de Python, creando estructuras $n$-dimensionales de forma sencilla y realizar complejas funciones sobre estas estructuras en una sola línea de código muy eficiente. \n",
    "\n",
    "Esta eficiencia se debe a que NumPy utiliza código C para realizar estos cálculos, que es mucho más rápido que la misma implementación en Python.\n",
    "\n",
    "Además de esto, otras de las grandes ventajas de NumPy es la documentación oficial que tiene, que es una de las más completas y bien documentadas que hay, ya que cubren muy bien todos los aspectos de las distintas funciones que tiene, además de incorporar una gran cantidad de ejemplos.\n",
    "\n",
    "### Instalación\n",
    "\n",
    "Para instalar NumPy tenemos que ejecutar la siguiente línea en nuestro terminal:\n",
    "```\n",
    "[braulio@braulio-PC ~]$ sudo pip install numpy\n",
    "```\n",
    "Con esto, gracias a pip, descargaremos e instalaremos NumPy. Así que, una vez instalados... a trabajar!!\n",
    "\n",
    "### Primeros pasos con NumPy\n",
    "\n",
    "Para empezar a trabajar con NumPy, lo primero es importar el paquete en nuestro script."
   ]
  },
  {
   "cell_type": "code",
   "execution_count": 1,
   "metadata": {
    "collapsed": false
   },
   "outputs": [],
   "source": [
    "import numpy"
   ]
  },
  {
   "cell_type": "markdown",
   "metadata": {},
   "source": [
    "Con esta línea, ya tendremos en nuestro pequeño script el paquete listo para ser usado. Para acceder a los módulos tendremos que hacer `numpy.nombre_de_la_función`. Esto no es que este mal, pero por así decirlo, el estandar es importar NumPy como se ve a continuación:"
   ]
  },
  {
   "cell_type": "code",
   "execution_count": 2,
   "metadata": {
    "collapsed": true
   },
   "outputs": [],
   "source": [
    "import numpy as np"
   ]
  },
  {
   "cell_type": "markdown",
   "metadata": {},
   "source": [
    "De esta forma, vuestro código pasa a ser más legible, el resto de gente y mas cómodo y rápido de escribir. Además de que por convenio, debes importar NumPy como `np`.\n",
    "\n",
    "### Arrays de NumPy\n",
    "\n",
    "Numpy puede trabajar con arrays de $n$ dimensiones, pero los más comunes son los arrays de una, dos o tres dimensiones (1D, 2D, 3D). Además de esto, podemos establecer el tipo de los elementos del array a la hora de crearlo. Esto es muy importante, ya que si el array del tipo está determinado antes de ejecutar el script, Python no tiene que pararse a inferir el tipo de estos elementos, por lo que ganamos mucha velocidad.\n",
    "\n",
    "Además de esto, ciertas operaciones en NumPy, o librerías que requieren el uso de NumPy, necesitan que los operandos sean de un determinado tipo.\n",
    "\n",
    "A continuación vamos a crear una serie de arrays de distintas dimensiones a partir de una lista propia de Python:"
   ]
  },
  {
   "cell_type": "code",
   "execution_count": 3,
   "metadata": {
    "collapsed": false
   },
   "outputs": [
    {
     "name": "stdout",
     "output_type": "stream",
     "text": [
      "Array 1D:\n",
      " [ 1  5  6 79]\n",
      "Array 2D:\n",
      " [[  2.     5.3    0.    -1.99]\n",
      " [ 14.5    5.    -5.     1.  ]]\n",
      "Array 3D:\n",
      " [[[ 1  5  6 79]\n",
      "  [ 5  7  9  0]]\n",
      "\n",
      " [[ 1  5  6 79]\n",
      "  [ 5  7  9  0]]]\n"
     ]
    }
   ],
   "source": [
    "lista1D = [1, 5, 6, 79]\n",
    "lista2D = [[2, 5.3, 0, -1.99], [14.5, 5, -5., 1]]\n",
    "lista3D = [[[1, 5, 6, 79], [5, 7, 9, 0]], [[1, 5, 6, 79], [5, 7, 9, 0]]]\n",
    "\n",
    "uni_dimensional = np.array(lista1D, dtype=np.int32) # Los elementos de este array serán enteros de 32 bits\n",
    "bi_dimensional  = np.array(lista2D, dtype=np.float64) # En este caso, serán float de 64 bits\n",
    "tri_dimensional = np.array(lista3D) # Y en este caso? \n",
    "\n",
    "print(\"Array 1D:\\n\", uni_dimensional)\n",
    "print(\"Array 2D:\\n\", bi_dimensional)\n",
    "print(\"Array 3D:\\n\", tri_dimensional)"
   ]
  },
  {
   "cell_type": "markdown",
   "metadata": {},
   "source": [
    "Hay que tener encuenta que usar `np.array` requiere de un objeto ya existente, como en este caso son las listas utilizadas anteriormente. Este objeto es el que se inserta en el parámetro `object`. El otro parámetro más importante es `dtype` que nos sirve para indicar de qué tipo será el array que construyamos. Para más información sobre la creación de un array, puedes consultar la [documentación oficial](https://docs.scipy.org/doc/numpy/reference/generated/numpy.array.html#numpy.array).\n",
    "\n",
    "Además de crear arrays a partir de un objeto, NumPy nos ofrece la posibilidad de crear arrays \"vacíos\" o con valores predeterminados, gracias a las siguientes funciones:\n",
    "* `np.ones`: genera un array de unos.\n",
    "* `np.zeros`: genera un array de ceros.\n",
    "* `np.random.random`: genera un array de números aleatorios.\n",
    "* `np.full`: similar a `np.ones` con la diferencia de que todos los valores serán iguales al que reciba como parámetro.\n",
    "* `np.arange`: genera un array con números dentro de un intervalo, con la frecuencia que queramos.\n",
    "* `np.linspace`: similar al anterior, solo que fijamos el intervalo y el número de elementos que queremos.\n",
    "* `np.eye`o `np.identity`: crean la matriz identidad.\n",
    "\n",
    "#### Ejercicio\n",
    "Ahora que hemos visto cómo crear arrays a partir de un objeto y otros para crear arrays con tipos prefijados, crea distintos arrays con las funciones anteriores para 1D, 2D y 3D e imprímelas por pantalla. Prueba a usar distintos tipos para ver cómo cambian los arrays. Si tienes dudas sobre cómo usarlos, puedes consultar la documentación oficial."
   ]
  },
  {
   "cell_type": "code",
   "execution_count": null,
   "metadata": {
    "collapsed": true
   },
   "outputs": [],
   "source": []
  },
  {
   "cell_type": "markdown",
   "metadata": {},
   "source": [
    "Una vez creado nuestros arrays, podemos encontrar información muy útil sobre ellos en los propios atributos del array. Estos atributos nos pueden dar información sobre el número de dimensiones, el espacio en memoria que ocupa cada elemento, etc. Los más comunes y el acceso a esta información podemos verlos a continuación:"
   ]
  },
  {
   "cell_type": "code",
   "execution_count": 4,
   "metadata": {
    "collapsed": false
   },
   "outputs": [
    {
     "name": "stdout",
     "output_type": "stream",
     "text": [
      "1\n",
      "20\n",
      "  C_CONTIGUOUS : True\n",
      "  F_CONTIGUOUS : True\n",
      "  OWNDATA : True\n",
      "  WRITEABLE : True\n",
      "  ALIGNED : True\n",
      "  UPDATEIFCOPY : False\n",
      "8\n",
      "160\n"
     ]
    }
   ],
   "source": [
    "x = np.arange(0.0,10.0,0.5)\n",
    "\n",
    "print(x.ndim) # Nos muestra el número de dimensiones que tiene el array\n",
    "\n",
    "print(x.size) # Muestra el número de elementos que tiene x\n",
    "\n",
    "print(x.flags) # Nos muestra la información de los distintos flags de x\n",
    "\n",
    "print(x.itemsize) # Nos muestra los bytes que ocupa un elemento de x\n",
    "\n",
    "print(x.nbytes) # Nos muestra el número total de bytes que ocupan los elementos de x"
   ]
  },
  {
   "cell_type": "markdown",
   "metadata": {},
   "source": [
    "Además de esto, podemos acceder a un elemento del array, podemos acceder de la misma manera que se hace en las listas de Python, usando el operador `[]`."
   ]
  },
  {
   "cell_type": "code",
   "execution_count": 5,
   "metadata": {
    "collapsed": false
   },
   "outputs": [
    {
     "data": {
      "text/plain": [
       "-4"
      ]
     },
     "execution_count": 5,
     "metadata": {},
     "output_type": "execute_result"
    }
   ],
   "source": [
    "array_1d = np.arange(-5,5,1)\n",
    "array_1d[1]"
   ]
  },
  {
   "cell_type": "markdown",
   "metadata": {},
   "source": [
    "También podemos acceder a subconjuntos dentro del array usando el operador `[]` y el operador `:` de la siguente forma:"
   ]
  },
  {
   "cell_type": "code",
   "execution_count": 6,
   "metadata": {
    "collapsed": false
   },
   "outputs": [
    {
     "data": {
      "text/plain": [
       "array([-2, -1,  0])"
      ]
     },
     "execution_count": 6,
     "metadata": {},
     "output_type": "execute_result"
    }
   ],
   "source": [
    "array_1d[3:6]"
   ]
  },
  {
   "cell_type": "markdown",
   "metadata": {},
   "source": [
    "Y usando estos dos mismos operadores, por ejemplo, en los arrays bidimensionales podemos acceder a todos los elementos de una fila o una columna de la siguiente forma:"
   ]
  },
  {
   "cell_type": "code",
   "execution_count": 7,
   "metadata": {
    "collapsed": false
   },
   "outputs": [
    {
     "name": "stdout",
     "output_type": "stream",
     "text": [
      "Matriz aleatoria:\n",
      " [[  6.97930475e-01   2.90341897e-01   5.47436656e-02   2.47744220e-01\n",
      "    4.71106471e-01   1.01731011e-06]\n",
      " [  1.85479174e-01   1.49151562e-01   6.44348219e-01   6.29458697e-01\n",
      "    3.56340838e-01   4.10908363e-01]\n",
      " [  8.80769432e-01   4.72657005e-01   4.45469719e-01   8.72474593e-01\n",
      "    5.69483739e-01   4.84891015e-01]\n",
      " [  9.73190964e-01   8.16267759e-01   6.97489971e-02   2.17470547e-01\n",
      "    4.71983332e-01   9.18359506e-01]]\n",
      "Fila: \n",
      " [ 0.18547917  0.14915156  0.64434822  0.6294587   0.35634084  0.41090836]\n",
      "Columna: \n",
      " [ 0.24774422  0.6294587   0.87247459  0.21747055]\n",
      "Filas: \n",
      " [[ 0.18547917  0.14915156  0.64434822  0.6294587   0.35634084  0.41090836]\n",
      " [ 0.88076943  0.47265701  0.44546972  0.87247459  0.56948374  0.48489102]\n",
      " [ 0.97319096  0.81626776  0.069749    0.21747055  0.47198333  0.91835951]]\n",
      "Columnas: \n",
      " [[  5.47436656e-02   2.47744220e-01   4.71106471e-01   1.01731011e-06]\n",
      " [  6.44348219e-01   6.29458697e-01   3.56340838e-01   4.10908363e-01]\n",
      " [  4.45469719e-01   8.72474593e-01   5.69483739e-01   4.84891015e-01]\n",
      " [  6.97489971e-02   2.17470547e-01   4.71983332e-01   9.18359506e-01]]\n",
      "Subconjunto de columnas: \n",
      " [[ 0.05474367  0.24774422  0.47110647]\n",
      " [ 0.64434822  0.6294587   0.35634084]]\n"
     ]
    }
   ],
   "source": [
    "array_random2d = np.random.random((4,6))\n",
    "print(\"Matriz aleatoria:\\n\", array_random2d)\n",
    "\n",
    "# Para acceder a todos los elementos de la segunda fila\n",
    "print(\"Fila: \\n\", array_random2d[1])\n",
    "\n",
    "# Para acceder a todos los elementos de la cuarta columna\n",
    "print(\"Columna: \\n\", array_random2d[:,3])\n",
    "\n",
    "# Filas de la segunda fila en adelante incluida esta\n",
    "print(\"Filas: \\n\", array_random2d[1:])\n",
    "\n",
    "# Columnas de la tercera columna en adelante\n",
    "print(\"Columnas: \\n\", array_random2d[:,2:])\n",
    "\n",
    "# Subconjuntos en filas y comunas\n",
    "print(\"Subconjunto de columnas: \\n\", array_random2d[0:2,2:5])"
   ]
  },
  {
   "cell_type": "markdown",
   "metadata": {},
   "source": [
    "Ahora que ya sabemos cómo manejarnos con los arrays de NumPy, cómo crearlos y acceder a la información de ellos, ya podemos empezar a realizar operaciones matemáticas con ellos.\n",
    "\n",
    "#### Operaciones con Arrays\n",
    "\n",
    "Ahora que ya hemos visto cómo crear y manejar arrays, podemos pasar a ver cómo realizar operaciones aritméticas con ellos. NumPy tiene funciones como `np.add`, `np.substract`, `np.multiply` y `np.divide` para sumar, restar, multiplicar y dividir arrays. También podemos calcular el módulo entre dos arrays usando `np.remainder`. Pero, no es necesario usar estas funciones como tal, sino que podemos usar nuestros operadores aritméticos de siempre: `+`, `-`, `*`, `/` y `%`."
   ]
  },
  {
   "cell_type": "code",
   "execution_count": 13,
   "metadata": {
    "collapsed": false
   },
   "outputs": [
    {
     "name": "stdout",
     "output_type": "stream",
     "text": [
      "Suma usando el operador +:\n",
      "\t [5 7 9]\n",
      "Suma usando np.add:\n",
      "\t [5 7 9]\n"
     ]
    }
   ],
   "source": [
    "a = np.array([1, 2, 3])\n",
    "b = np.array([4, 5, 6])\n",
    "\n",
    "print(\"Suma usando el operador +:\\n\\t\", a + b)\n",
    "print(\"Suma usando np.add:\\n\\t\", np.add(a,b))"
   ]
  },
  {
   "cell_type": "markdown",
   "metadata": {},
   "source": [
    "También podemos encontrar funciones para calcular el coseno entre dos arrays, el producto vectorial, elevar a un exponente un array. Todas las funciones matemáticas las podemos encontrar en la [documentación](https://docs.scipy.org/doc/numpy/reference/routines.math.html).\n",
    "\n",
    "Otro módulo muy importante de NumPy es el de álgebra lineal, que podemos acceder a las funciones de este módulo haciendo `np.linalg`. Este módulo contiene operaciones como el producto vectorial de dos arrays, la descomposición en valores singulares, funciones para resolver sistemas de ecuaciones, etc. Una vez más, la [documentación](https://docs.scipy.org/doc/numpy/reference/routines.linalg.html) es nuestra amiga y en ella podemos encontrar toda la información sobre estas funciones, junto con ejemplos de uso.\n",
    "\n",
    "#### Ejercicio\n",
    "\n",
    "Una matriz de rotación $R$ es una matriz que representa una rotación en el espacio euclídeo. Esta matriz $R$ se representa como $$R=\\left(\\begin{matrix} \\cos\\theta & -\\sin\\theta \\\\ \\sin\\theta & -\\cos\\theta \\end{matrix}\\right)$$ donde $\\theta$ es el número de ángulos rotados en sentido antihorario.\n",
    "\n",
    "Estas matrices son muy usadas en geometría, informática o física. Un ejemplo de uso de estas matrices puede ser el cálculo de una rotación de un objeto en un sistema gráfico, la rotación de una cámara respecto a un punto en el espacio, etc.\n",
    "\n",
    "Estas matrices tienen como propiedades que son ___matrices ortogonales___ (su inversa y su traspuesta son iguales) y su ___determinante es igual a 1___. Por tanto, genera un array y muestra si ese array es una matriz de rotación."
   ]
  },
  {
   "cell_type": "code",
   "execution_count": null,
   "metadata": {
    "collapsed": true
   },
   "outputs": [],
   "source": []
  }
 ],
 "metadata": {
  "kernelspec": {
   "display_name": "Python 3",
   "language": "python",
   "name": "python3"
  },
  "language_info": {
   "codemirror_mode": {
    "name": "ipython",
    "version": 3
   },
   "file_extension": ".py",
   "mimetype": "text/x-python",
   "name": "python",
   "nbconvert_exporter": "python",
   "pygments_lexer": "ipython3",
   "version": "3.6.0"
  }
 },
 "nbformat": 4,
 "nbformat_minor": 2
}
