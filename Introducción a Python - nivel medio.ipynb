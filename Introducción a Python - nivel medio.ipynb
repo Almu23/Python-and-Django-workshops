{
 "cells": [
  {
   "cell_type": "markdown",
   "metadata": {},
   "source": [
    "# Introducción a Python: nivel intermedio\n",
    "\n",
    "Python es un lenguaje muy extendido, con una rica comunidad que abarca muchos aspectos, muy fácil de aprender y programar con él, y que nos permite realizar un montón de tareas diferentes. Pero, no solo de pan vive. Python tiene muchas _librerías_ o _módulos_ que nos facilitan muchas tareas, que están respaldados por un gran número de personas detrás y que en muchos casos, realizan tareas específicas de una manera mucho más eficiente que haciéndolo puramente en Python.\n",
    "\n",
    "Este es el caso de librerías como ___NumPy___, ___Pandas___, ___scikit-learn___, ___Django___ y muchísimas más. \n",
    "\n",
    "Además de esto, aunque Python sea un lenguaje puramente imperativo, nos permite simular lo que se conoce como programación funcional, que viene directamente del _Lambda Calculus_, gracias al uso de las funciones ___lambda___.\n",
    "\n",
    "A continuación, veremos una introducción a _NumPy_ que nos sirve como puerta de entrada a un montón de módulos más, y la programación funcional con las funciones _lambda_.\n",
    "\n",
    "## NumPy\n",
    "\n",
    "NumPy es el paquete central que usaremos para tareas como ciencia de datos, o muchos cálculos matemáticos que requieren el uso de estructuras algebraicas como los vectores y matrices. Este paquete tiene la ventaja de que podemos trabajar cómodamente con la sintaxis de Python, creando estructuras $n$-dimensionales de forma sencilla y realizar complejas funciones sobre estas estructuras en una sola línea de código muy eficiente. \n",
    "\n",
    "Esta eficiencia se debe a que NumPy utiliza código C para realizar estos cálculos, que es mucho más rápido que la misma implementación en Python.\n",
    "\n",
    "Además de esto, otras de las grandes ventajas de NumPy es la documentación oficial que tiene, que es una de las más completas y bien documentadas que hay, ya que cubren muy bien todos los aspectos de las distintas funciones que tiene, además de incorporar una gran cantidad de ejemplos.\n",
    "\n",
    "### Instalación\n",
    "\n",
    "Para instalar NumPy tenemos que ejecutar la siguiente línea en nuestro terminal:\n",
    "```\n",
    "[braulio@braulio-PC ~]$ sudo pip install numpy\n",
    "```\n",
    "Con esto, gracias a pip, descargaremos e instalaremos NumPy. Así que, una vez instalados... a trabajar!!\n",
    "\n",
    "### Primeros pasos con NumPy\n",
    "\n",
    "Para empezar a trabajar con NumPy, lo primero es importar el paquete en nuestro script."
   ]
  },
  {
   "cell_type": "code",
   "execution_count": 1,
   "metadata": {
    "collapsed": false
   },
   "outputs": [],
   "source": [
    "import numpy"
   ]
  },
  {
   "cell_type": "markdown",
   "metadata": {},
   "source": [
    "Con esta línea, ya tendremos en nuestro pequeño script el paquete listo para ser usado. Para acceder a los módulos tendremos que hacer `numpy.nombre_de_la_función`. Esto no es que este mal, pero por así decirlo, el estandar es importar NumPy como se ve a continuación:"
   ]
  },
  {
   "cell_type": "code",
   "execution_count": 2,
   "metadata": {
    "collapsed": true
   },
   "outputs": [],
   "source": [
    "import numpy as np"
   ]
  },
  {
   "cell_type": "markdown",
   "metadata": {},
   "source": [
    "De esta forma, vuestro código pasa a ser más legible, el resto de gente y mas cómodo y rápido de escribir. Además de que por convenio, debes importar NumPy como `np`.\n",
    "\n",
    "### Arrays de NumPy\n",
    "\n",
    "Numpy puede trabajar con arrays de $n$ dimensiones, pero los más comunes son los arrays de una, dos o tres dimensiones (1D, 2D, 3D). Además de esto, podemos establecer el tipo de los elementos del array a la hora de crearlo. Esto es muy importante, ya que si el array del tipo está determinado antes de ejecutar el script, Python no tiene que pararse a inferir el tipo de estos elementos, por lo que ganamos mucha velocidad.\n",
    "\n",
    "Además de esto, ciertas operaciones en NumPy, o librerías que requieren el uso de NumPy, necesitan que los operandos sean de un determinado tipo.\n",
    "\n",
    "A continuación vamos a crear una serie de arrays de distintas dimensiones a partir de una lista propia de Python:"
   ]
  },
  {
   "cell_type": "code",
   "execution_count": 3,
   "metadata": {
    "collapsed": false
   },
   "outputs": [
    {
     "name": "stdout",
     "output_type": "stream",
     "text": [
      "Array 1D:\n",
      " [ 1  5  6 79]\n",
      "Array 2D:\n",
      " [[  2.     5.3    0.    -1.99]\n",
      " [ 14.5    5.    -5.     1.  ]]\n",
      "Array 3D:\n",
      " [[[ 1  5  6 79]\n",
      "  [ 5  7  9  0]]\n",
      "\n",
      " [[ 1  5  6 79]\n",
      "  [ 5  7  9  0]]]\n"
     ]
    }
   ],
   "source": [
    "lista1D = [1, 5, 6, 79]\n",
    "lista2D = [[2, 5.3, 0, -1.99], [14.5, 5, -5., 1]]\n",
    "lista3D = [[[1, 5, 6, 79], [5, 7, 9, 0]], [[1, 5, 6, 79], [5, 7, 9, 0]]]\n",
    "\n",
    "uni_dimensional = np.array(lista1D, dtype=np.int32) # Los elementos de este array serán enteros de 32 bits\n",
    "bi_dimensional  = np.array(lista2D, dtype=np.float64) # En este caso, serán float de 64 bits\n",
    "tri_dimensional = np.array(lista3D) # Y en este caso? \n",
    "\n",
    "print(\"Array 1D:\\n\", uni_dimensional)\n",
    "print(\"Array 2D:\\n\", bi_dimensional)\n",
    "print(\"Array 3D:\\n\", tri_dimensional)"
   ]
  },
  {
   "cell_type": "markdown",
   "metadata": {},
   "source": [
    "Hay que tener encuenta que usar `np.array` requiere de un objeto ya existente, como en este caso son las listas utilizadas anteriormente. Este objeto es el que se inserta en el parámetro `object`. El otro parámetro más importante es `dtype` que nos sirve para indicar de qué tipo será el array que construyamos. Para más información sobre la creación de un array, puedes consultar la [documentación oficial](https://docs.scipy.org/doc/numpy/reference/generated/numpy.array.html#numpy.array).\n",
    "\n",
    "Además de crear arrays a partir de un objeto, NumPy nos ofrece la posibilidad de crear arrays \"vacíos\" o con valores predeterminados, gracias a las siguientes funciones:\n",
    "* __`np.ones`__: genera un array de unos.\n",
    "* __`np.zeros`__: genera un array de ceros.\n",
    "* __`np.random.random`__: genera un array de números aleatorios.\n",
    "* __`np.full`__: similar a `np.ones` con la diferencia de que todos los valores serán iguales al que reciba como parámetro.\n",
    "* __`np.arange`__: genera un array con números dentro de un intervalo, con la frecuencia que queramos.\n",
    "* __`np.linspace`__: similar al anterior, solo que fijamos el intervalo y el número de elementos que queremos.\n",
    "* __`np.eye`__o __`np.identity`__: crean la matriz identidad.\n",
    "\n",
    "##### Ejercicio\n",
    "Ahora que hemos visto cómo crear arrays a partir de un objeto y otros para crear arrays con tipos prefijados, crea distintos arrays con las funciones anteriores para 1D, 2D y 3D e imprímelas por pantalla. Prueba a usar distintos tipos para ver cómo cambian los arrays. Si tienes dudas sobre cómo usarlos, puedes consultar la documentación oficial."
   ]
  },
  {
   "cell_type": "code",
   "execution_count": null,
   "metadata": {
    "collapsed": true
   },
   "outputs": [],
   "source": []
  },
  {
   "cell_type": "markdown",
   "metadata": {},
   "source": [
    "Una vez creado nuestros arrays, podemos encontrar información muy útil sobre ellos en los propios atributos del array. Estos atributos nos pueden dar información sobre el número de dimensiones, el espacio en memoria que ocupa cada elemento, etc. Los más comunes y el acceso a esta información podemos verlos a continuación:"
   ]
  },
  {
   "cell_type": "code",
   "execution_count": 4,
   "metadata": {
    "collapsed": false
   },
   "outputs": [
    {
     "name": "stdout",
     "output_type": "stream",
     "text": [
      "1\n",
      "20\n",
      "  C_CONTIGUOUS : True\n",
      "  F_CONTIGUOUS : True\n",
      "  OWNDATA : True\n",
      "  WRITEABLE : True\n",
      "  ALIGNED : True\n",
      "  UPDATEIFCOPY : False\n",
      "8\n",
      "160\n"
     ]
    }
   ],
   "source": [
    "x = np.arange(0.0,10.0,0.5)\n",
    "\n",
    "print(x.ndim) # Nos muestra el número de dimensiones que tiene el array\n",
    "\n",
    "print(x.size) # Muestra el número de elementos que tiene x\n",
    "\n",
    "print(x.flags) # Nos muestra la información de los distintos flags de x\n",
    "\n",
    "print(x.itemsize) # Nos muestra los bytes que ocupa un elemento de x\n",
    "\n",
    "print(x.nbytes) # Nos muestra el número total de bytes que ocupan los elementos de x"
   ]
  },
  {
   "cell_type": "markdown",
   "metadata": {},
   "source": [
    "Además de esto, podemos acceder a un elemento del array, podemos acceder de la misma manera que se hace en las listas de Python, usando el operador `[]`."
   ]
  },
  {
   "cell_type": "code",
   "execution_count": 5,
   "metadata": {
    "collapsed": false
   },
   "outputs": [
    {
     "data": {
      "text/plain": [
       "-4"
      ]
     },
     "execution_count": 5,
     "metadata": {},
     "output_type": "execute_result"
    }
   ],
   "source": [
    "array_1d = np.arange(-5,5,1)\n",
    "array_1d[1]"
   ]
  },
  {
   "cell_type": "markdown",
   "metadata": {},
   "source": [
    "También podemos acceder a subconjuntos dentro del array usando el operador `[]` y el operador `:` de la siguente forma:"
   ]
  },
  {
   "cell_type": "code",
   "execution_count": 6,
   "metadata": {
    "collapsed": false
   },
   "outputs": [
    {
     "data": {
      "text/plain": [
       "array([-2, -1,  0])"
      ]
     },
     "execution_count": 6,
     "metadata": {},
     "output_type": "execute_result"
    }
   ],
   "source": [
    "array_1d[3:6]"
   ]
  },
  {
   "cell_type": "markdown",
   "metadata": {},
   "source": [
    "Y usando estos dos mismos operadores, por ejemplo, en los arrays bidimensionales podemos acceder a todos los elementos de una fila o una columna de la siguiente forma:"
   ]
  },
  {
   "cell_type": "code",
   "execution_count": 7,
   "metadata": {
    "collapsed": false
   },
   "outputs": [
    {
     "name": "stdout",
     "output_type": "stream",
     "text": [
      "Matriz aleatoria:\n",
      " [[  8.95516762e-01   7.89073905e-01   7.87589731e-01   7.32705212e-01\n",
      "    3.46780526e-01   1.63848301e-04]\n",
      " [  3.46203514e-01   8.55052182e-01   7.50395947e-01   9.73898804e-01\n",
      "    2.67168469e-01   6.31252351e-01]\n",
      " [  7.78338119e-01   6.98776690e-01   8.98304530e-01   5.23299243e-02\n",
      "    6.77398321e-01   4.45937041e-01]\n",
      " [  9.23696447e-01   6.80856094e-01   4.88792944e-01   1.47153705e-01\n",
      "    6.69500341e-01   1.16952698e-01]]\n",
      "Fila: \n",
      " [ 0.34620351  0.85505218  0.75039595  0.9738988   0.26716847  0.63125235]\n",
      "Columna: \n",
      " [ 0.73270521  0.9738988   0.05232992  0.14715371]\n",
      "Filas: \n",
      " [[ 0.34620351  0.85505218  0.75039595  0.9738988   0.26716847  0.63125235]\n",
      " [ 0.77833812  0.69877669  0.89830453  0.05232992  0.67739832  0.44593704]\n",
      " [ 0.92369645  0.68085609  0.48879294  0.14715371  0.66950034  0.1169527 ]]\n",
      "Columnas: \n",
      " [[  7.87589731e-01   7.32705212e-01   3.46780526e-01   1.63848301e-04]\n",
      " [  7.50395947e-01   9.73898804e-01   2.67168469e-01   6.31252351e-01]\n",
      " [  8.98304530e-01   5.23299243e-02   6.77398321e-01   4.45937041e-01]\n",
      " [  4.88792944e-01   1.47153705e-01   6.69500341e-01   1.16952698e-01]]\n",
      "Subconjunto de columnas: \n",
      " [[ 0.78758973  0.73270521  0.34678053]\n",
      " [ 0.75039595  0.9738988   0.26716847]]\n"
     ]
    }
   ],
   "source": [
    "array_random2d = np.random.random((4,6))\n",
    "print(\"Matriz aleatoria:\\n\", array_random2d)\n",
    "\n",
    "# Para acceder a todos los elementos de la segunda fila\n",
    "print(\"Fila: \\n\", array_random2d[1])\n",
    "\n",
    "# Para acceder a todos los elementos de la cuarta columna\n",
    "print(\"Columna: \\n\", array_random2d[:,3])\n",
    "\n",
    "# Filas de la segunda fila en adelante incluida esta\n",
    "print(\"Filas: \\n\", array_random2d[1:])\n",
    "\n",
    "# Columnas de la tercera columna en adelante\n",
    "print(\"Columnas: \\n\", array_random2d[:,2:])\n",
    "\n",
    "# Subconjuntos en filas y comunas\n",
    "print(\"Subconjunto de columnas: \\n\", array_random2d[0:2,2:5])"
   ]
  },
  {
   "cell_type": "markdown",
   "metadata": {},
   "source": [
    "Ahora que ya sabemos cómo manejarnos con los arrays de NumPy, cómo crearlos y acceder a la información de ellos, ya podemos empezar a realizar operaciones matemáticas con ellos.\n",
    "\n",
    "##### Ejercicio\n",
    "\n",
    "Gracias a las distintas formas de indexar un array que nos permite NumPy, podemos hacer operaciones de forma vectorizada, evitando los bucles. Esto supone un incremento en la eficiencia del código y tener un código más corto y legible. Para ello, vamos a realizar el siguiente ejercicio. \n",
    "\n",
    "Genera una matriz aleatoria cuadrada de tamaño 1000. Una vez creada, genera una nueva matriz donde las filas y columnas 0 y $n-1$ estén repetidas 500 veces y el centro de la matriz quede exactamente igual a la original. Un ejemplo de esto lo podemos ver a continuación: $$\\left(\\begin{matrix} 1 & 2 & 2 & 2 & 3 \\\\ 2 & 3 & 3 & 3 & 4 \\\\ 2 & 3 & 3 & 3 & 4 \\\\ 2 & 3 & 3 & 3 & 4 \\\\ 3 & 4 & 4 & 4 & 5\\end{matrix}\\right) \\Longrightarrow \\left(\\begin{matrix} 1 & 1 & 1 & 2 & 2 & 2 & 3 & 3 & 3 \\\\1 & 1 & 1 & 2 & 2 & 2 & 3 & 3 & 3 \\\\ 1 & 1 & 1 & 2 & 2 & 2 & 3 & 3 & 3 \\\\ 2 & 2 & 2 & 3 & 3 & 3 & 4 & 4 & 4 \\\\ 2 & 2 & 2 & 3 & 3 & 3 & 4 & 4 & 4 \\\\ 2 & 2 & 2 & 3 & 3 & 3 & 4 & 4 & 4 \\\\ 3 & 3 & 3 & 4 & 4 & 4 & 5 & 5 & 5 \\\\ 3 & 3 & 3 & 4 & 4 & 4 & 5 & 5 & 5 \\\\ 3 & 3 & 3 & 4 & 4 & 4 & 5 & 5 & 5\\end{matrix}\\right) $$ \n",
    "\n",
    "Impleméntalo usando un bucle `for` y vectorizando el cálculo usando lo anteriormente visto para ver la diferencias de tiempos usando ambas variantes. Para medir el tiempo, puedes usar el módulo `time`."
   ]
  },
  {
   "cell_type": "code",
   "execution_count": null,
   "metadata": {
    "collapsed": true
   },
   "outputs": [],
   "source": []
  },
  {
   "cell_type": "markdown",
   "metadata": {},
   "source": [
    "#### Operaciones con Arrays\n",
    "\n",
    "Ahora que ya hemos visto cómo crear y manejar arrays, podemos pasar a ver cómo realizar operaciones aritméticas con ellos. NumPy tiene funciones como `np.add`, `np.substract`, `np.multiply` y `np.divide` para sumar, restar, multiplicar y dividir arrays. También podemos calcular el módulo entre dos arrays usando `np.remainder`. Pero, no es necesario usar estas funciones como tal, sino que podemos usar nuestros operadores aritméticos de siempre: `+`, `-`, `*`, `/` y `%`."
   ]
  },
  {
   "cell_type": "code",
   "execution_count": 8,
   "metadata": {
    "collapsed": false
   },
   "outputs": [
    {
     "name": "stdout",
     "output_type": "stream",
     "text": [
      "Suma usando el operador +:\n",
      "\t [5 7 9]\n",
      "Suma usando np.add:\n",
      "\t [5 7 9]\n"
     ]
    }
   ],
   "source": [
    "a = np.array([1, 2, 3])\n",
    "b = np.array([4, 5, 6])\n",
    "\n",
    "print(\"Suma usando el operador +:\\n\\t\", a + b)\n",
    "print(\"Suma usando np.add:\\n\\t\", np.add(a,b))"
   ]
  },
  {
   "cell_type": "markdown",
   "metadata": {},
   "source": [
    "También podemos encontrar funciones para calcular el coseno entre dos arrays, el producto vectorial, elevar a un exponente un array. Todas las funciones matemáticas las podemos encontrar en la [documentación](https://docs.scipy.org/doc/numpy/reference/routines.math.html).\n",
    "\n",
    "Otro módulo muy importante de NumPy es el de álgebra lineal, que podemos acceder a las funciones de este módulo haciendo `np.linalg`. Este módulo contiene operaciones como el producto vectorial de dos arrays, la descomposición en valores singulares, funciones para resolver sistemas de ecuaciones, etc. Una vez más, la [documentación](https://docs.scipy.org/doc/numpy/reference/routines.linalg.html) es nuestra amiga y en ella podemos encontrar toda la información sobre estas funciones, junto con ejemplos de uso.\n",
    "\n",
    "##### Ejercicio\n",
    "\n",
    "Una matriz de rotación $R$ es una matriz que representa una rotación en el espacio euclídeo. Esta matriz $R$ se representa como $$R=\\left(\\begin{matrix} \\cos\\theta & -\\sin\\theta \\\\ \\sin\\theta & -\\cos\\theta \\end{matrix}\\right)$$ donde $\\theta$ es el número de ángulos rotados en sentido antihorario.\n",
    "\n",
    "Estas matrices son muy usadas en geometría, informática o física. Un ejemplo de uso de estas matrices puede ser el cálculo de una rotación de un objeto en un sistema gráfico, la rotación de una cámara respecto a un punto en el espacio, etc.\n",
    "\n",
    "Estas matrices tienen como propiedades que son ___matrices ortogonales___ (su inversa y su traspuesta son iguales) y su ___determinante es igual a 1___. Por tanto, genera un array y muestra si ese array es una matriz de rotación."
   ]
  },
  {
   "cell_type": "code",
   "execution_count": null,
   "metadata": {
    "collapsed": true
   },
   "outputs": [],
   "source": []
  },
  {
   "cell_type": "markdown",
   "metadata": {},
   "source": [
    "##### Ejercicio\n",
    "\n",
    "Dados el array que se ve a continuación, realiza los siguientes apartados:"
   ]
  },
  {
   "cell_type": "code",
   "execution_count": 9,
   "metadata": {
    "collapsed": false
   },
   "outputs": [],
   "source": [
    "array1 = np.array([ -1., 4., -9.])"
   ]
  },
  {
   "cell_type": "markdown",
   "metadata": {},
   "source": [
    "1. Multiplica `array1` por $\\frac{\\pi}{4}$ y calcula el seno del array resultante.\n",
    "2. Genera un nuevo array cuyo valor sea el doble del resultado anterior mas el vector `array1`.\n",
    "3. Calcula la norma del vector resultante. Para ello, consulta la documentación para ver qué función realiza esta tarea, y ten en cuenta los parámetros que recibe."
   ]
  },
  {
   "cell_type": "code",
   "execution_count": null,
   "metadata": {
    "collapsed": true
   },
   "outputs": [],
   "source": []
  },
  {
   "cell_type": "markdown",
   "metadata": {},
   "source": [
    "#### Operaciones lógicas\n",
    "\n",
    "Además de las funciones algebraicas y aritméticas, también podemos hacer uso de los operadores lógicos para comparar dos arrays. Por ejemplo, si queremos comparar elemento a elemento si son iguales dos arrays, usaremos el operador `==`."
   ]
  },
  {
   "cell_type": "code",
   "execution_count": 10,
   "metadata": {
    "collapsed": false
   },
   "outputs": [
    {
     "name": "stdout",
     "output_type": "stream",
     "text": [
      "[False False  True False  True]\n"
     ]
    }
   ],
   "source": [
    "a = np.array([1, 2, 2, -1, 5])\n",
    "b = np.array([0, 1, 2, 42, 5])\n",
    "\n",
    "print(a == b)"
   ]
  },
  {
   "cell_type": "markdown",
   "metadata": {},
   "source": [
    "Lo mismo sucede con los operadores de comparación `<` y `>`, que comparan elemento a elemento según el operador que hayamos decidido usar."
   ]
  },
  {
   "cell_type": "code",
   "execution_count": 11,
   "metadata": {
    "collapsed": false
   },
   "outputs": [
    {
     "name": "stdout",
     "output_type": "stream",
     "text": [
      "Operador <:\t [False False False  True False]\n",
      "Operador >:\t [ True  True False False False]\n",
      "Operador <=:\t [False False  True  True  True]\n"
     ]
    }
   ],
   "source": [
    "print(\"Operador <:\\t\", a < b)\n",
    "print(\"Operador >:\\t\", a > b)\n",
    "print(\"Operador <=:\\t\", a <= b)"
   ]
  },
  {
   "cell_type": "markdown",
   "metadata": {},
   "source": [
    "Pero, en el caso de que queramos comparar si dos arrays son completamente iguales, devolviendo un único valor que sea `True` o `False`, debemos usar la función `np.array_equal(array_1, array_2)`."
   ]
  },
  {
   "cell_type": "code",
   "execution_count": 12,
   "metadata": {
    "collapsed": false
   },
   "outputs": [
    {
     "name": "stdout",
     "output_type": "stream",
     "text": [
      "¿Son iguales a y b? False\n"
     ]
    }
   ],
   "source": [
    "print(\"¿Son iguales a y b?\", np.array_equal(a, b))"
   ]
  },
  {
   "cell_type": "markdown",
   "metadata": {},
   "source": [
    "También están disponibles los operadores lógicos `&` y `|` para realizar operaciones lógicas con ellas. Sin embargo, NumPy también ofrece las funciones `np.logical_and()`, `np.logical_or()` para realizar estas operaciones y `np.logical_not` para negar el array.\n",
    "\n",
    "Otras funciones a las que tenemos acceso son a funciones que nos ofrecen datos estadísticos como la _media_ o la _desviación típica_, o el valor de la suma de una fila de un array, etc. A continuación, podemos ver algunas de las que ofrece:\n",
    "* __`array.sum()`__: devuelve la suma total de los componentes del array.\n",
    "* __`array.min()`__: devuelve el mínimo valor del array.\n",
    "* __`array.max()`__: devuelve el valor máximo de la fila o la columna, dependiendo del valor que tenga el parámetro `axis`.\n",
    "* __`array.cumsum()`__: nos devuelve un nuevo array donde cada elemento es la suma acumulativa de los elementos del array. Al igual que antes, es dependiente del parámetro `axis`.\n",
    "* __`array.mean()`__: para obtener la media.\n",
    "* __`array.median()`__: para obtener la mediana.\n",
    "* __`np.std(array)`__: para obtener la desviación típica del array."
   ]
  },
  {
   "cell_type": "markdown",
   "metadata": {},
   "source": [
    "##### Ejercicio\n",
    "\n",
    "Dada la siguiente matriz, realiza los siguientes apartados:"
   ]
  },
  {
   "cell_type": "code",
   "execution_count": 13,
   "metadata": {
    "collapsed": true
   },
   "outputs": [],
   "source": [
    "n_array1 =  np.array([[ 1., 3., 5.], [7., -9., 2.], [4., 6., 8.]])"
   ]
  },
  {
   "cell_type": "markdown",
   "metadata": {},
   "source": [
    "1. Calcula la media y la desviación típica de la matriz.\n",
    "2. Obtén el elemento mínimo y máximo de la matriz.\n",
    "3. Calcula el determinante, la traza y la traspuesta de la matriz.\n",
    "4. Calcula la descomposición en valores singulares de la matriz.\n",
    "5. Calcula el valor de la suma de los elementos de la diagonal principal de la matriz."
   ]
  },
  {
   "cell_type": "code",
   "execution_count": null,
   "metadata": {
    "collapsed": true
   },
   "outputs": [],
   "source": []
  },
  {
   "cell_type": "markdown",
   "metadata": {},
   "source": [
    "#### Salvar arrays de NumPy en ficheros\n",
    "\n",
    "Hay veces que en nuestro problema podemos generar matrices de un tamaño considerable, y que el tiempo de cómputo que hemos necesitado para obtener esa matriz es demasiado grande como para permitirnos el lujo de generarlo de nuevo, o simplemente no es posible reproducir los cálculos.\n",
    "\n",
    "Es por ello que NumPy ofrece una solución, y es que nos permite el poder salvar estos arrays en ficheros gracias a las funciones `save`, `savetxt`, `savez` o `savez_compressed`.\n",
    "* __`save`__: guarda el array en un fichero binario de NumPy. Este fichero tiene como formato _.npy_.\n",
    "* __`savetxt`__: guarda el array en un fichero de texto.\n",
    "* __`savez`__: guarda varios arrays en un mismo fichero sin comprimir. Este fichero tiene formato _.npz_.\n",
    "* __`savez_compressed`__: similar al anterior pero en este caso el fichero estará comprimido. Su formato también es _.npz_.\n",
    "\n",
    "Para más infomración y ejemplos de uso, siempre podréis consultar la documentación oficial.\n",
    "\n",
    "### Quiero más ejercicios para seguir entrenando con NumPy\n",
    "\n",
    "Existe un repositorio en GitHub lleno de ejercicios que cubren un gran número de módulos y funciones de NumPy, con las soluciones a dichos ejercicios. Estos ejercicios, al igual que esta breve introducción, se encuentran en _jupyter-notebooks_ que podemos descargar y manipular. Este repositorio se encuentra [aquí](https://github.com/Kyubyong/numpy_exercises). Y recordar que siempre que useis un repositorio en GitHub y os ha sido de utilidad, dadle ___star___ al repositorio.\n",
    "\n",
    "## Funciones _lambda_ ($\\lambda$)"
   ]
  }
 ],
 "metadata": {
  "kernelspec": {
   "display_name": "Python 3",
   "language": "python",
   "name": "python3"
  },
  "language_info": {
   "codemirror_mode": {
    "name": "ipython",
    "version": 3
   },
   "file_extension": ".py",
   "mimetype": "text/x-python",
   "name": "python",
   "nbconvert_exporter": "python",
   "pygments_lexer": "ipython3",
   "version": "3.6.0"
  }
 },
 "nbformat": 4,
 "nbformat_minor": 2
}
