{
 "cells": [
  {
   "cell_type": "markdown",
   "metadata": {},
   "source": [
    "# Introducción a Python: nivel intermedio\n",
    "\n",
    "Python es un lenguaje muy extendido, con una rica comunidad que abarca muchos aspectos, muy fácil de aprender y programar con él, y que nos permite realizar un montón de tareas diferentes. Pero, no solo de pan vive. Python tiene muchas _librerías_ o _módulos_ que nos facilitan muchas tareas, que están respaldados por un gran número de personas detrás y que en muchos casos, realizan tareas específicas de una manera mucho más eficiente que haciéndolo puramente en Python.\n",
    "\n",
    "Este es el caso de librerías como ___NumPy___, ___Pandas___, ___scikit-learn___, ___Django___ y muchísimas más. \n",
    "\n",
    "Además de esto, aunque Python sea un lenguaje puramente imperativo, nos permite simular lo que se conoce como programación funcional, que viene directamente del _Lambda Calculus_, gracias al uso de las funciones ___lambda___.\n",
    "\n",
    "A continuación, veremos una introducción a _NumPy_ que nos sirve como puerta de entrada a un montón de módulos más, y la programación funcional con las funciones _lambda_.\n",
    "\n",
    "## NumPy\n",
    "\n",
    "NumPy es el paquete central que usaremos para tareas como ciencia de datos, o muchos cálculos matemáticos que requieren el uso de estructuras algebraicas como los vectores y matrices. Este paquete tiene la ventaja de que podemos trabajar cómodamente con la sintaxis de Python, creando estructuras $n$-dimensionales de forma sencilla y realizar complejas funciones sobre estas estructuras en una sola línea de código muy eficiente. \n",
    "\n",
    "Esta eficiencia se debe a que NumPy utiliza código C para realizar estos cálculos, que es mucho más rápido que la misma implementación en Python.\n",
    "\n",
    "Además de esto, otras de las grandes ventajas de NumPy es la documentación oficial que tiene, que es una de las más completas y bien documentadas que hay, ya que cubren muy bien todos los aspectos de las distintas funciones que tiene, además de incorporar una gran cantidad de ejemplos.\n",
    "\n",
    "### Instalación\n",
    "\n",
    "Para instalar NumPy tenemos que ejecutar la siguiente línea en nuestro terminal:\n",
    "```\n",
    "[braulio@braulio-PC ~]$ sudo pip install numpy\n",
    "```\n",
    "Con esto, gracias a pip, descargaremos e instalaremos NumPy. Así que, una vez instalados... a trabajar!!\n",
    "\n",
    "### Primeros pasos con NumPy\n",
    "\n",
    "Para empezar a trabajar con NumPy, lo primero es importar el paquete en nuestro script."
   ]
  },
  {
   "cell_type": "code",
   "execution_count": 1,
   "metadata": {
    "collapsed": false
   },
   "outputs": [],
   "source": [
    "import numpy"
   ]
  },
  {
   "cell_type": "markdown",
   "metadata": {},
   "source": [
    "Con esta línea, ya tendremos en nuestro pequeño script el paquete listo para ser usado. Para acceder a los módulos tendremos que hacer `numpy.nombre_de_la_función`. Esto no es que este mal, pero por así decirlo, el estandar es importar NumPy como se ve a continuación:"
   ]
  },
  {
   "cell_type": "code",
   "execution_count": 2,
   "metadata": {
    "collapsed": true
   },
   "outputs": [],
   "source": [
    "import numpy as np"
   ]
  },
  {
   "cell_type": "markdown",
   "metadata": {},
   "source": [
    "De esta forma, vuestro código pasa a ser más legible, el resto de gente y mas cómodo y rápido de escribir. Además de que por convenio, debes importar NumPy como `np`.\n",
    "\n",
    "### Arrays de NumPy\n",
    "\n",
    "Numpy puede trabajar con arrays de $n$ dimensiones, pero los más comunes son los arrays de una, dos o tres dimensiones (1D, 2D, 3D). Además de esto, podemos establecer el tipo de los elementos del array a la hora de crearlo. Esto es muy importante, ya que si el array del tipo está determinado antes de ejecutar el script, Python no tiene que pararse a inferir el tipo de estos elementos, por lo que ganamos mucha velocidad.\n",
    "\n",
    "Además de esto, ciertas operaciones en NumPy, o librerías que requieren el uso de NumPy, necesitan que los operandos sean de un determinado tipo.\n",
    "\n",
    "A continuación vamos a crear una serie de arrays de distintas dimensiones a partir de una lista propia de Python:"
   ]
  },
  {
   "cell_type": "code",
   "execution_count": 3,
   "metadata": {
    "collapsed": false
   },
   "outputs": [
    {
     "name": "stdout",
     "output_type": "stream",
     "text": [
      "Array 1D:\n",
      " [ 1  5  6 79]\n",
      "Array 2D:\n",
      " [[  2.     5.3    0.    -1.99]\n",
      " [ 14.5    5.    -5.     1.  ]]\n",
      "Array 3D:\n",
      " [[[ 1  5  6 79]\n",
      "  [ 5  7  9  0]]\n",
      "\n",
      " [[ 1  5  6 79]\n",
      "  [ 5  7  9  0]]]\n"
     ]
    }
   ],
   "source": [
    "lista1D = [1, 5, 6, 79]\n",
    "lista2D = [[2, 5.3, 0, -1.99], [14.5, 5, -5., 1]]\n",
    "lista3D = [[[1, 5, 6, 79], [5, 7, 9, 0]], [[1, 5, 6, 79], [5, 7, 9, 0]]]\n",
    "\n",
    "uni_dimensional = np.array(lista1D, dtype=np.int32) # Los elementos de este array serán enteros de 32 bits\n",
    "bi_dimensional  = np.array(lista2D, dtype=np.float64) # En este caso, serán float de 64 bits\n",
    "tri_dimensional = np.array(lista3D) # Y en este caso? \n",
    "\n",
    "print(\"Array 1D:\\n\", uni_dimensional)\n",
    "print(\"Array 2D:\\n\", bi_dimensional)\n",
    "print(\"Array 3D:\\n\", tri_dimensional)"
   ]
  },
  {
   "cell_type": "markdown",
   "metadata": {},
   "source": [
    "Hay que tener encuenta que usar `np.array` requiere de un objeto ya existente, como en este caso son las listas utilizadas anteriormente. Este objeto es el que se inserta en el parámetro `object`. El otro parámetro más importante es `dtype` que nos sirve para indicar de qué tipo será el array que construyamos. Para más información sobre la creación de un array, puedes consultar la [documentación oficial](https://docs.scipy.org/doc/numpy/reference/generated/numpy.array.html#numpy.array).\n",
    "\n",
    "Además de crear arrays a partir de un objeto, NumPy nos ofrece la posibilidad de crear arrays \"vacíos\" o con valores predeterminados, gracias a las siguientes funciones:\n",
    "* `np.ones`: genera un array de unos.\n",
    "* `np.zeros`: genera un array de ceros.\n",
    "* `np.random.random`: genera un array de números aleatorios.\n",
    "* `np.full`: similar a `np.ones` con la diferencia de que todos los valores serán iguales al que reciba como parámetro.\n",
    "* `np.arange`: genera un array con números dentro de un intervalo, con la frecuencia que queramos.\n",
    "* `np.linspace`: similar al anterior, solo que fijamos el intervalo y el número de elementos que queremos.\n",
    "\n",
    "#### Ejercicio\n",
    "Ahora que hemos visto cómo crear arrays a partir de un objeto y otros para crear arrays con tipos prefijados, crea distintos arrays con las funciones anteriores para 1D, 2D y 3D e imprímelas por pantalla. Prueba a usar distintos tipos para ver cómo cambian los arrays. Si tienes dudas sobre cómo usarlos, puedes consultar la documentación oficial."
   ]
  },
  {
   "cell_type": "code",
   "execution_count": null,
   "metadata": {
    "collapsed": true
   },
   "outputs": [],
   "source": []
  }
 ],
 "metadata": {
  "kernelspec": {
   "display_name": "Python 3",
   "language": "python",
   "name": "python3"
  },
  "language_info": {
   "codemirror_mode": {
    "name": "ipython",
    "version": 3
   },
   "file_extension": ".py",
   "mimetype": "text/x-python",
   "name": "python",
   "nbconvert_exporter": "python",
   "pygments_lexer": "ipython3",
   "version": "3.6.0"
  }
 },
 "nbformat": 4,
 "nbformat_minor": 2
}
