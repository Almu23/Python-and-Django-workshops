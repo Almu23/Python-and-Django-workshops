{
 "cells": [
  {
   "cell_type": "markdown",
   "metadata": {},
   "source": [
    "# Introducción a Python: nivel intermedio\n",
    "\n",
    "Python es un lenguaje muy extendido, con una rica comunidad que abarca muchos aspectos, muy fácil de aprender y programar con él, y que nos permite realizar un montón de tareas diferentes. Pero, no solo de pan vive. Python tiene muchas _librerías_ o _módulos_ que nos facilitan muchas tareas, que están respaldados por un gran número de personas detrás y que en muchos casos, realizan tareas específicas de una manera mucho más eficiente que haciéndolo puramente en Python.\n",
    "\n",
    "Este es el caso de librerías como ___NumPy___, ___Pandas___, ___scikit-learn___, ___Django___ y muchísimas más. \n",
    "\n",
    "Además de esto, aunque Python sea un lenguaje puramente imperativo, nos permite simular lo que se conoce como programación funcional, que viene directamente del _Lambda Calculus_, gracias al uso de las funciones ___lambda___.\n",
    "\n",
    "A continuación, veremos una introducción a _NumPy_ que nos sirve como puerta de entrada a un montón de módulos más, y la programación funcional con las funciones _lambda_.\n",
    "\n",
    "## NumPy\n",
    "\n",
    "NumPy es el paquete central que usaremos para tareas como ciencia de datos, o muchos cálculos matemáticos que requieren el uso de estructuras algebraicas como los vectores y matrices. Este paquete tiene la ventaja de que podemos trabajar cómodamente con la sintaxis de Python, creando estructuras $n$-dimensionales de forma sencilla y realizar complejas funciones sobre estas estructuras en una sola línea de código muy eficiente. \n",
    "\n",
    "Esta eficiencia se debe a que NumPy utiliza código C para realizar estos cálculos, que es mucho más rápido la misma implementación en Python.\n",
    "\n",
    "### Instalación\n",
    "Para instalar NumPy tenemos que ejecutar la siguiente línea en nuestro terminal:\n",
    "```\n",
    "[braulio@braulio-PC ~]$ sudo pip install numpy\n",
    "```\n",
    "Con esto, gracias a pip, descargaremos e instalaremos NumPy. Así que, una vez instalados... a trabajar!!"
   ]
  }
 ],
 "metadata": {
  "kernelspec": {
   "display_name": "Python 3",
   "language": "python",
   "name": "python3"
  },
  "language_info": {
   "codemirror_mode": {
    "name": "ipython",
    "version": 3
   },
   "file_extension": ".py",
   "mimetype": "text/x-python",
   "name": "python",
   "nbconvert_exporter": "python",
   "pygments_lexer": "ipython3",
   "version": "3.6.0"
  }
 },
 "nbformat": 4,
 "nbformat_minor": 2
}
