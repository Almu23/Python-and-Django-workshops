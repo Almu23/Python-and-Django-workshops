{
 "cells": [
  {
   "cell_type": "markdown",
   "metadata": {},
   "source": [
    "# ¿Qué es programar?\n",
    "Un programa de ordenador es una serie de __instrucciones__ que le dicen a la máquina qué tiene que hacer. Las máquinas no entienden nuestro lenguaje, por lo que tenemos que aprender un lenguaje para poder comunicarnos con ellas y darles órdenes. Hay muchísimos lenguajes de programación hoy en día, cada lenguaje se usa para hacer un tipo de programa. Por ejemplo, si quieres hacer una página web puedes usar _HTML_, _CSS_ y _Javascript_, si quieres hacer un programa para consultar una base de datos puedes usar _SQL_. En el caso de __Python__, es un lenguaje usado para muchas cosas: desde hacer cálculos científicos hasta programación web, pasando por robótica, seguridad, ciencia de datos, física y muchísimas cosas más. Además, _Python_ es muy sencillo de entender y programar, ya que simplifica muchas tareas que en otros lenguajes como _C_ son muy tediosas. Por eso, es ideal para entender los conceptos básicos de programación y para iniciarse en este mundillo.\n",
    "\n",
    "# Instalación\n",
    "## Linux\n",
    "_Python_ viene instalado por defecto en todas las distribuciones Linux. En _Ubuntu_, la versión que viene instalada es `python2` y en otras distribuciones como _Arch Linux_, la versión es `python3`. Lo recomendable si vas a iniciarte en _Python_ es que empieces directamente por `python3`. Para comprobar la versión que tenemos instalada ejecutamos el siguiente comando en consola:\n",
    "\n",
    "```\n",
    "[marta@marta-PC ~]$ python -V\n",
    "Python 3.6.0\n",
    "```\n",
    "En mi caso, tengo la versión 3.6 instalada. En el caso de que tengas una versión de `python2`, instala la versión 3 usando el siguiente comando:\n",
    "\n",
    "* __Ubuntu__: `sudo apt-get install python3`\n",
    "* __CentOS__: `sudo yum install python3`\n",
    "\n",
    "## Windows y Mac OS\n",
    "Para instalar _Python_ en otros sistemas operativos, descarga el instalador de la [página oficial de python](http://www.python.org/).\n",
    "\n",
    "# La consola de Python\n",
    "_Python_ es un lenguaje de programación interpretado, ¿qué quiere decir esto? que interpreta cada instrucción que hemos escrito en nuestro programa a la hora de ejecutar. Otros lenguajes, como _C_ o _Java_ son compilados, por lo que necesitamos generar un ejecutable (los famosos `.exe`, para que nos entendamos) para poder ejecutarlos. El hecho de que _Python_ sea interpretado nos permite tener una consola donde introducir comandos sin tener que crear un programa y compilarlo. Podemos ejecutar esta consola simplemente ejecutando el siguiente comando:\n",
    "\n",
    "```\n",
    "[marta@marta-PC ~]$ python\n",
    "Python 3.6.0 (default, Dec 24 2016, 08:03:08) \n",
    "[GCC 6.2.1 20160830] on linux\n",
    "Type \"help\", \"copyright\", \"credits\" or \"license\" for more information.\n",
    ">>>\n",
    "```\n",
    "\n",
    "También tenemos disponible la consola `ipython`, una consola de _Python_ que resalta el código que escribimos y autocompleta si pulsamos el tabulador. Para ejecutarla simplemente tenemos que poner el siguiente comando en consola:\n",
    "\n",
    "```\n",
    "[marta@marta-PC ~]$ ipython\n",
    "Python 3.6.0 (default, Dec 24 2016, 08:03:08) \n",
    "Type \"copyright\", \"credits\" or \"license\" for more information.\n",
    "\n",
    "IPython 5.1.0 -- An enhanced Interactive Python.\n",
    "?         -> Introduction and overview of IPython's features.\n",
    "%quickref -> Quick reference.\n",
    "help      -> Python's own help system.\n",
    "object?   -> Details about 'object', use 'object??' for extra details.\n",
    "\n",
    "In [1]: \n",
    "```\n",
    "\n",
    "Tanto el `>>>` de la consola de Python como el `In [1]:` de la consola de iPython son conocidos como el _prompt_, donde podemos escribir instrucciones para que el intérprete las ejecute.\n",
    "\n",
    "# Jupyter\n",
    "Un _notebook_ de __Jupyter__ es una especie de consola de Python que nos permite poder escribir comentarios en Markdown. Es muy útil para poder hacer tutoriales como éste, ya que dispones de la explicación y el código para ejecutar y probar en el mismo sitio. Vamos a empezar a usar la consola de python incluida en jupyter para hacer las primeras pruebas.\n",
    "\n",
    "# Hola mundo!\n",
    "Una vez tenemos Python instalado y hemos elegido nuestro intérprete favorito, vamos a empezar a programar. El primer programa que se suele hacer en todos los lenguajes de programación es conocido como el _hola mundo_. En otros lenguajes como _C_, tendríamos que hacer varias líneas de código y, después, compilar nuestro programa para poder ejecutarlo, en cambio, en _Python_ lo podemos ejecutar en una sola línea!"
   ]
  },
  {
   "cell_type": "code",
   "execution_count": 1,
   "metadata": {
    "collapsed": false
   },
   "outputs": [
    {
     "name": "stdout",
     "output_type": "stream",
     "text": [
      "Hola mundo!\n"
     ]
    }
   ],
   "source": [
    "print(\"Hola mundo!\")"
   ]
  },
  {
   "cell_type": "markdown",
   "metadata": {},
   "source": [
    "Ahora imagina que quieres hacer un programa para saludar a tu amiga _Marta_, ¿cómo lo harías? De primeras, podrías hacer lo siguiente:"
   ]
  },
  {
   "cell_type": "code",
   "execution_count": 2,
   "metadata": {
    "collapsed": false
   },
   "outputs": [
    {
     "name": "stdout",
     "output_type": "stream",
     "text": [
      "Hola Marta!\n"
     ]
    }
   ],
   "source": [
    "print(\"Hola Marta!\")"
   ]
  },
  {
   "cell_type": "markdown",
   "metadata": {},
   "source": [
    "Así, tendríamos un programa para saludar a cualquier Marta del mundo, pero, ¿y si quisiéramos un programa para poder saludar a cualquier persona? Para poder llevar esto a cabo necesitamos introducir un concepto de programación básico: las __variables__.\n",
    "\n",
    "## Variables\n",
    "Una variable en programación describe un lugar donde guardar información, que puede ser diferente en cada ejecución. En nuestro caso, queremos saludar al usuario que ejecute nuestro programa, pero no sabemos su nombre a priori y no lo sabremos hasta la ejecución, por tanto, necesitamos reservar un espacio para poder guardar ahí el nombre del usuario durante la ejecución de nuestro programa.\n",
    "\n",
    "Hay muchos tipos de variables: \n",
    "\n",
    "* números enteros (`int`)\n",
    "* números reales (`float` o `double`)\n",
    "* caracteres (`char`) y cadenas de caracteres (`string`)\n",
    "* booleanos (`bool`), estos últimos sólo pueden tomar dos valores: verdadero (`True`) o falso (`False`).\n",
    "\n",
    "En otros lenguajes de programación, como _C_, necesitamos indicar el tipo que tiene cada variable que declaramos. En cambio, en python no es necesario ya que el propio intérprete lo infiere por sí mismo. \n",
    "\n",
    "Una vez hemos aprendido el concepto de variable, ya sí podemos hacer nuestro programa para saludar a cualquier persona."
   ]
  },
  {
   "cell_type": "code",
   "execution_count": 5,
   "metadata": {
    "collapsed": false
   },
   "outputs": [
    {
     "name": "stdout",
     "output_type": "stream",
     "text": [
      "¿Cómo te llamas? Marta\n",
      "Hola  Marta !\n"
     ]
    }
   ],
   "source": [
    "nombre = input(\"¿Cómo te llamas? \")\n",
    "print(\"Hola \", nombre,\"!\")"
   ]
  },
  {
   "cell_type": "markdown",
   "metadata": {},
   "source": [
    "## Operando con variables\n",
    "\n",
    "En Python podemos hacer operaciones sobre las variables que tenemos de forma muy sencilla. A modo de resumen, las principales operaciones en python son:\n",
    "\n",
    "| Símbolo | Operación     |\n",
    "|:-------:|:-------------:|\n",
    "|+        | suma          |\n",
    "|-        | resta         |\n",
    "|*        | multiplicación|\n",
    "|/        | división      |\n",
    "\n",
    "Estos operadores se pueden usar con cualquier tipo de variable, tanto números como letras. A continuación, te muestro varios ejemplos.\n",
    "\n",
    "Podemos concatenar dos palabras usando el operador +."
   ]
  },
  {
   "cell_type": "code",
   "execution_count": 12,
   "metadata": {
    "collapsed": false
   },
   "outputs": [
    {
     "name": "stdout",
     "output_type": "stream",
     "text": [
      "Marta y María\n"
     ]
    }
   ],
   "source": [
    "nombre1 = \"Marta\"\n",
    "nombre2 = \"María\"\n",
    "suma_nombres = nombre1 + \" y \" + nombre2\n",
    "print(suma_nombres)"
   ]
  },
  {
   "cell_type": "markdown",
   "metadata": {},
   "source": [
    "También podemos multiplicar una palabra por un número usando el operador *."
   ]
  },
  {
   "cell_type": "code",
   "execution_count": 13,
   "metadata": {
    "collapsed": false
   },
   "outputs": [
    {
     "name": "stdout",
     "output_type": "stream",
     "text": [
      "MartaMartaMartaMartaMarta\n"
     ]
    }
   ],
   "source": [
    "num1 = 5\n",
    "mult_letra_num = nombre1 * 5\n",
    "print(mult_letra_num)"
   ]
  },
  {
   "cell_type": "markdown",
   "metadata": {},
   "source": [
    "Y por último, también podemos hacer operaciones numéricas. En las operaciones numéricas Python respeta el orden de los operadores: primero se realizan las multiplicaciones y divisiones y, después, las sumas y restas. Si queremos cambiar este orden simplemente tenemos que usar paréntesis."
   ]
  },
  {
   "cell_type": "code",
   "execution_count": 14,
   "metadata": {
    "collapsed": false
   },
   "outputs": [
    {
     "name": "stdout",
     "output_type": "stream",
     "text": [
      "17\n",
      "22\n"
     ]
    }
   ],
   "source": [
    "num2 = 6\n",
    "operacion1 = num1 + num2 * 2\n",
    "print(operacion1)\n",
    "operacion2 = (num1 + num2) * 2\n",
    "print(operacion2)"
   ]
  },
  {
   "cell_type": "markdown",
   "metadata": {},
   "source": [
    "En este caso, en el primer caso hemos realizado la operación \n",
    "\n",
    "$$5 + (6 * 2) = 5 + 12 = 17$$\n",
    "\n",
    "y en el segundo, en cambio\n",
    "\n",
    "$$ (5 + 6) * 2 = 11 * 2 = 22$$\n",
    "\n",
    "### Ejercicio: Haz un pequeño programa que le pida al usuario introducir dos números ($x_1$ y $x_2$), calcule la siguiente operación y muestre el resultado de la misma ($x$):\n",
    "\n",
    "$$ x = \\frac{20 * x_1 - x_2}{x_2 + 3} $$"
   ]
  },
  {
   "cell_type": "markdown",
   "metadata": {},
   "source": []
  }
 ],
 "metadata": {
  "kernelspec": {
   "display_name": "Python 3",
   "language": "python",
   "name": "python3"
  },
  "language_info": {
   "codemirror_mode": {
    "name": "ipython",
    "version": 3
   },
   "file_extension": ".py",
   "mimetype": "text/x-python",
   "name": "python",
   "nbconvert_exporter": "python",
   "pygments_lexer": "ipython3",
   "version": "3.6.0"
  }
 },
 "nbformat": 4,
 "nbformat_minor": 2
}
