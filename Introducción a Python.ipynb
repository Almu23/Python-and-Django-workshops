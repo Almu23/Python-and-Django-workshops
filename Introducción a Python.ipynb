{
 "cells": [
  {
   "cell_type": "markdown",
   "metadata": {
    "deletable": true,
    "editable": true
   },
   "source": [
    "# ¿Qué es programar?\n",
    "Un programa de ordenador es una serie de __instrucciones__ que le dicen a la máquina qué tiene que hacer. Las máquinas no entienden nuestro lenguaje, por lo que tenemos que aprender un lenguaje para poder comunicarnos con ellas y darles órdenes. Hay muchísimos lenguajes de programación hoy en día, cada lenguaje se usa para hacer un tipo de programa. Por ejemplo, si quieres hacer una página web puedes usar _HTML_, _CSS_ y _Javascript_, si quieres hacer un programa para consultar una base de datos puedes usar _SQL_. En el caso de __Python__, es un lenguaje usado para muchas cosas: desde hacer cálculos científicos hasta programación web, pasando por robótica, seguridad, ciencia de datos, física y muchísimas cosas más. Además, _Python_ es muy sencillo de entender y programar, ya que simplifica muchas tareas que en otros lenguajes como _C_ son muy tediosas. Por eso, es ideal para entender los conceptos básicos de programación y para iniciarse en este mundillo.\n",
    "\n",
    "# Instalación\n",
    "## Linux\n",
    "_Python_ viene instalado por defecto en todas las distribuciones Linux. En _Ubuntu_, la versión que viene instalada es `python2` y en otras distribuciones como _Arch Linux_, la versión es `python3`. Lo recomendable si vas a iniciarte en _Python_ es que empieces directamente por `python3`. Para comprobar la versión que tenemos instalada ejecutamos el siguiente comando en consola:\n",
    "\n",
    "```\n",
    "[marta@marta-PC ~]$ python -V\n",
    "Python 3.6.0\n",
    "```\n",
    "En mi caso, tengo la versión 3.6 instalada. En el caso de que tengas una versión de `python2`, instala la versión 3 usando el siguiente comando:\n",
    "\n",
    "* __Ubuntu__: `sudo apt-get install python3`\n",
    "* __CentOS__: `sudo yum install python3`\n",
    "\n",
    "## Windows y Mac OS\n",
    "Para instalar _Python_ en otros sistemas operativos, descarga el instalador de la [página oficial de python](http://www.python.org/).\n",
    "\n",
    "# La consola de Python\n",
    "_Python_ es un lenguaje de programación interpretado, ¿qué quiere decir esto? que interpreta cada instrucción que hemos escrito en nuestro programa a la hora de ejecutar. Otros lenguajes, como _C_ o _Java_ son compilados, por lo que necesitamos generar un ejecutable (los famosos `.exe`, para que nos entendamos) para poder ejecutarlos. El hecho de que _Python_ sea interpretado nos permite tener una consola donde introducir comandos sin tener que crear un programa y compilarlo. Podemos ejecutar esta consola simplemente ejecutando el siguiente comando:\n",
    "\n",
    "```\n",
    "[marta@marta-PC ~]$ python\n",
    "Python 3.6.0 (default, Dec 24 2016, 08:03:08) \n",
    "[GCC 6.2.1 20160830] on linux\n",
    "Type \"help\", \"copyright\", \"credits\" or \"license\" for more information.\n",
    ">>>\n",
    "```\n",
    "\n",
    "También tenemos disponible la consola `ipython`, una consola de _Python_ que resalta el código que escribimos y autocompleta si pulsamos el tabulador. Para ejecutarla simplemente tenemos que poner el siguiente comando en consola:\n",
    "\n",
    "```\n",
    "[marta@marta-PC ~]$ ipython\n",
    "Python 3.6.0 (default, Dec 24 2016, 08:03:08) \n",
    "Type \"copyright\", \"credits\" or \"license\" for more information.\n",
    "\n",
    "IPython 5.1.0 -- An enhanced Interactive Python.\n",
    "?         -> Introduction and overview of IPython's features.\n",
    "%quickref -> Quick reference.\n",
    "help      -> Python's own help system.\n",
    "object?   -> Details about 'object', use 'object??' for extra details.\n",
    "\n",
    "In [1]: \n",
    "```\n",
    "\n",
    "Tanto el `>>>` de la consola de Python como el `In [1]:` de la consola de iPython son conocidos como el _prompt_, donde podemos escribir instrucciones para que el intérprete las ejecute.\n",
    "\n",
    "# Jupyter\n",
    "Un _notebook_ de __Jupyter__ es una especie de consola de Python que nos permite poder escribir comentarios en Markdown. Es muy útil para poder hacer tutoriales como éste, ya que dispones de la explicación y el código para ejecutar y probar en el mismo sitio. Vamos a empezar a usar la consola de python incluida en jupyter para hacer las primeras pruebas. Para instalar _Jupyter_ podemos usar tanto `pip` como `anaconda`:\n",
    "\n",
    "```\n",
    "[marta@marta-PC ~]$ sudo pip3 install --upgrade pip && sudo pip3 install jupyter \n",
    "```\n",
    "\n",
    "# Hola mundo!\n",
    "Una vez tenemos Python instalado y hemos elegido nuestro intérprete favorito, vamos a empezar a programar. El primer programa que se suele hacer en todos los lenguajes de programación es conocido como el _hola mundo_. En otros lenguajes como _C_, tendríamos que hacer varias líneas de código y, después, compilar nuestro programa para poder ejecutarlo, en cambio, en _Python_ lo podemos ejecutar en una sola línea!"
   ]
  },
  {
   "cell_type": "code",
   "execution_count": 1,
   "metadata": {
    "collapsed": false,
    "deletable": true,
    "editable": true
   },
   "outputs": [
    {
     "name": "stdout",
     "output_type": "stream",
     "text": [
      "Hola mundo!\n"
     ]
    }
   ],
   "source": [
    "print(\"Hola mundo!\")"
   ]
  },
  {
   "cell_type": "markdown",
   "metadata": {
    "deletable": true,
    "editable": true
   },
   "source": [
    "Ahora imagina que quieres hacer un programa para saludar a tu amiga _Marta_, ¿cómo lo harías? De primeras, podrías hacer lo siguiente:"
   ]
  },
  {
   "cell_type": "code",
   "execution_count": 2,
   "metadata": {
    "collapsed": false,
    "deletable": true,
    "editable": true
   },
   "outputs": [
    {
     "name": "stdout",
     "output_type": "stream",
     "text": [
      "Hola Marta!\n"
     ]
    }
   ],
   "source": [
    "print(\"Hola Marta!\")"
   ]
  },
  {
   "cell_type": "markdown",
   "metadata": {
    "deletable": true,
    "editable": true
   },
   "source": [
    "Así, tendríamos un programa para saludar a cualquier Marta del mundo, pero, ¿y si quisiéramos un programa para poder saludar a cualquier persona? Para poder llevar esto a cabo necesitamos introducir un concepto de programación básico: las __variables__.\n",
    "\n",
    "# Variables\n",
    "Una variable en programación describe un lugar donde guardar información, que puede ser diferente en cada ejecución. En nuestro caso, queremos saludar al usuario que ejecute nuestro programa, pero no sabemos su nombre a priori y no lo sabremos hasta la ejecución, por tanto, necesitamos reservar un espacio para poder guardar ahí el nombre del usuario durante la ejecución de nuestro programa.\n",
    "\n",
    "Hay muchos tipos de variables: \n",
    "\n",
    "* números enteros (`int`)\n",
    "* números reales (`float` o `double`)\n",
    "* caracteres (`char`) y cadenas de caracteres (`string`)\n",
    "* booleanos (`bool`), estos últimos sólo pueden tomar dos valores: verdadero (`True`) o falso (`False`).\n",
    "\n",
    "En otros lenguajes de programación, como _C_, necesitamos indicar el tipo que tiene cada variable que declaramos. En cambio, en python no es necesario ya que el propio intérprete lo infiere por sí mismo. \n",
    "\n",
    "Una vez hemos aprendido el concepto de variable, ya sí podemos hacer nuestro programa para saludar a cualquier persona."
   ]
  },
  {
   "cell_type": "code",
   "execution_count": 3,
   "metadata": {
    "collapsed": false,
    "deletable": true,
    "editable": true
   },
   "outputs": [
    {
     "name": "stdout",
     "output_type": "stream",
     "text": [
      "¿Cómo te llamas? Marta\n",
      "Hola  Marta !\n"
     ]
    }
   ],
   "source": [
    "nombre = input(\"¿Cómo te llamas? \")\n",
    "print(\"Hola \", nombre,\"!\")"
   ]
  },
  {
   "cell_type": "markdown",
   "metadata": {
    "deletable": true,
    "editable": true
   },
   "source": [
    "## Operando con variables\n",
    "\n",
    "En Python podemos hacer operaciones sobre las variables que tenemos de forma muy sencilla. A modo de resumen, las principales operaciones en python son:\n",
    "\n",
    "| Símbolo | Operación     |\n",
    "|:-------:|:-------------:|\n",
    "|+        | suma          |\n",
    "|-        | resta         |\n",
    "|*        | multiplicación|\n",
    "|/        | división      |\n",
    "\n",
    "Estos operadores se pueden usar con cualquier tipo de variable, tanto números como letras. A continuación, te muestro varios ejemplos.\n",
    "\n",
    "Podemos concatenar dos palabras usando el operador +."
   ]
  },
  {
   "cell_type": "code",
   "execution_count": 4,
   "metadata": {
    "collapsed": false,
    "deletable": true,
    "editable": true
   },
   "outputs": [
    {
     "name": "stdout",
     "output_type": "stream",
     "text": [
      "Marta y María\n"
     ]
    }
   ],
   "source": [
    "nombre1 = \"Marta\"\n",
    "nombre2 = \"María\"\n",
    "suma_nombres = nombre1 + \" y \" + nombre2\n",
    "print(suma_nombres)"
   ]
  },
  {
   "cell_type": "markdown",
   "metadata": {
    "deletable": true,
    "editable": true
   },
   "source": [
    "También podemos multiplicar una palabra por un número usando el operador *."
   ]
  },
  {
   "cell_type": "code",
   "execution_count": 5,
   "metadata": {
    "collapsed": false,
    "deletable": true,
    "editable": true
   },
   "outputs": [
    {
     "name": "stdout",
     "output_type": "stream",
     "text": [
      "MartaMartaMartaMartaMarta\n"
     ]
    }
   ],
   "source": [
    "num1 = 5\n",
    "mult_letra_num = nombre1 * 5\n",
    "print(mult_letra_num)"
   ]
  },
  {
   "cell_type": "markdown",
   "metadata": {
    "deletable": true,
    "editable": true
   },
   "source": [
    "Y por último, también podemos hacer operaciones numéricas. En las operaciones numéricas Python respeta el orden de los operadores: primero se realizan las multiplicaciones y divisiones y, después, las sumas y restas. Si queremos cambiar este orden simplemente tenemos que usar paréntesis."
   ]
  },
  {
   "cell_type": "code",
   "execution_count": 6,
   "metadata": {
    "collapsed": false,
    "deletable": true,
    "editable": true
   },
   "outputs": [
    {
     "name": "stdout",
     "output_type": "stream",
     "text": [
      "17\n",
      "22\n"
     ]
    }
   ],
   "source": [
    "num2 = 6\n",
    "operacion1 = num1 + num2 * 2\n",
    "print(operacion1)\n",
    "operacion2 = (num1 + num2) * 2\n",
    "print(operacion2)"
   ]
  },
  {
   "cell_type": "markdown",
   "metadata": {
    "deletable": true,
    "editable": true
   },
   "source": [
    "En el primer caso hemos realizado la operación \n",
    "\n",
    "$$5 + (6 * 2) = 5 + 12 = 17$$\n",
    "\n",
    "y en el segundo, en cambio\n",
    "\n",
    "$$ (5 + 6) * 2 = 11 * 2 = 22$$\n",
    "\n",
    "### Ejercicio: \n",
    "\n",
    "__Haz un pequeño programa que le pida al usuario introducir dos números ($x_1$ y $x_2$), calcule la siguiente operación y muestre el resultado de la misma ($x$):__\n",
    "\n",
    "$$ x = \\frac{20 * x_1 - x_2}{x_2 + 3} $$\n",
    "\n",
    "__Si intentas operar con el resultado de la función `input` obtendrás un error que te informa que no se pueden restar dos datos de tipo `str`. Usa la función `int` para convertir los datos introducidos por teclado a datos numéricos.__"
   ]
  },
  {
   "cell_type": "code",
   "execution_count": null,
   "metadata": {
    "collapsed": false,
    "deletable": true,
    "editable": true
   },
   "outputs": [],
   "source": []
  },
  {
   "cell_type": "markdown",
   "metadata": {},
   "source": [
    "## Librería `math`\n",
    "\n",
    "Una __librería__ es un conjunto de operaciones relacionadas entre sí, guardadas en una especie de \"paquete\". En este caso, vamos a hablar de la librería `math` que tiene operaciones matemáticas más avanzadas tales como la raíz cuadrada.\n",
    "\n",
    "Para poder usar esta librería debemos importarla a nuestro programa. Esto se hace usando la instrucción `import`:"
   ]
  },
  {
   "cell_type": "code",
   "execution_count": 24,
   "metadata": {
    "collapsed": false
   },
   "outputs": [
    {
     "name": "stdout",
     "output_type": "stream",
     "text": [
      "2.0\n"
     ]
    }
   ],
   "source": [
    "import math\n",
    "\n",
    "print(math.sqrt(4))"
   ]
  },
  {
   "cell_type": "markdown",
   "metadata": {},
   "source": [
    "Usando sólo la instrucción `import` debemos preceder la instrucción que queremos del nombre de la librería. Si este nombre es muy largo, podemos importar la librería usando un alias:"
   ]
  },
  {
   "cell_type": "code",
   "execution_count": 25,
   "metadata": {
    "collapsed": false
   },
   "outputs": [
    {
     "name": "stdout",
     "output_type": "stream",
     "text": [
      "2.0\n"
     ]
    }
   ],
   "source": [
    "import math as m\n",
    "\n",
    "print(m.sqrt(4))"
   ]
  },
  {
   "cell_type": "markdown",
   "metadata": {},
   "source": [
    "Ahora bien, si sólo vamos a usar unas operaciones concretas de una librería, podemos especificar cuáles son y así no tener que usar el nombre de la librería para poder utilizarlas."
   ]
  },
  {
   "cell_type": "code",
   "execution_count": 26,
   "metadata": {
    "collapsed": false
   },
   "outputs": [
    {
     "name": "stdout",
     "output_type": "stream",
     "text": [
      "2.0\n"
     ]
    }
   ],
   "source": [
    "from math import sqrt\n",
    "\n",
    "print(m.sqrt(4))"
   ]
  },
  {
   "cell_type": "markdown",
   "metadata": {},
   "source": [
    "Esta librería tiene muchas más operaciones que puedes consultar en la [documentación oficial](https://docs.python.org/3/library/math.html)"
   ]
  },
  {
   "cell_type": "markdown",
   "metadata": {},
   "source": [
    "# Estructuras de control\n",
    "\n",
    "Hasta ahora, nuestros programas se basan en una serie de instrucciones que se ejecutan una detrás de otra. Esto limita mucho los programas que podemos hacer, ya que no nos permite controlar el __flujo de ejecución__ (_control flow_) de nuestro programa. A continuación vamos a ver una serie de instrucciones especiales que nos permiten hacer precisamente eso.\n",
    "\n",
    "## `if`\n",
    "\n",
    "Imagina que estás operando con raíces cuadradas, como sabrás la raíz cuadrada de un número es negativa, y quieres evitar hacer la raíz cuadrada si el número introducido por el usuario es negativo."
   ]
  },
  {
   "cell_type": "code",
   "execution_count": 29,
   "metadata": {
    "collapsed": false
   },
   "outputs": [
    {
     "name": "stdout",
     "output_type": "stream",
     "text": [
      "Introduce un número: -5\n"
     ]
    },
    {
     "ename": "ValueError",
     "evalue": "math domain error",
     "output_type": "error",
     "traceback": [
      "\u001b[0;31m----------------------------------------------------------\u001b[0m",
      "\u001b[0;31mValueError\u001b[0m               Traceback (most recent call last)",
      "\u001b[0;32m<ipython-input-29-1bfe41810136>\u001b[0m in \u001b[0;36m<module>\u001b[0;34m()\u001b[0m\n\u001b[1;32m      1\u001b[0m \u001b[0mnum\u001b[0m \u001b[0;34m=\u001b[0m \u001b[0mint\u001b[0m\u001b[0;34m(\u001b[0m\u001b[0minput\u001b[0m\u001b[0;34m(\u001b[0m\u001b[0;34m\"Introduce un número: \"\u001b[0m\u001b[0;34m)\u001b[0m\u001b[0;34m)\u001b[0m\u001b[0;34m\u001b[0m\u001b[0m\n\u001b[0;32m----> 2\u001b[0;31m \u001b[0mraiz\u001b[0m \u001b[0;34m=\u001b[0m \u001b[0msqrt\u001b[0m\u001b[0;34m(\u001b[0m\u001b[0mnum\u001b[0m\u001b[0;34m)\u001b[0m\u001b[0;34m\u001b[0m\u001b[0m\n\u001b[0m",
      "\u001b[0;31mValueError\u001b[0m: math domain error"
     ]
    }
   ],
   "source": [
    "num = int(input(\"Introduce un número: \"))\n",
    "raiz = sqrt(num)"
   ]
  },
  {
   "cell_type": "markdown",
   "metadata": {},
   "source": [
    "¿Qué podemos hacer para que no ocurra esto? Controlar con un `if` la __condición__ de que el número sea positivo para hacer la raíz cuadrada y avisar al usuario en caso contrario:"
   ]
  },
  {
   "cell_type": "code",
   "execution_count": 30,
   "metadata": {
    "collapsed": false
   },
   "outputs": [
    {
     "name": "stdout",
     "output_type": "stream",
     "text": [
      "Introduce un número: -5\n",
      "No puedo hacer la raíz de un número negativo!\n"
     ]
    }
   ],
   "source": [
    "num = int(input(\"Introduce un número: \"))\n",
    "if num > 0:\n",
    "    raiz = sqrt(num)\n",
    "else:\n",
    "    print(\"No puedo hacer la raíz de un número negativo!\")"
   ]
  },
  {
   "cell_type": "markdown",
   "metadata": {},
   "source": [
    "Si quisiéramos controlar una condición más, usaríamos la instrucción `elif`, que en otros lenguajes como C es conocida como `else if`:"
   ]
  },
  {
   "cell_type": "code",
   "execution_count": 32,
   "metadata": {
    "collapsed": false
   },
   "outputs": [
    {
     "name": "stdout",
     "output_type": "stream",
     "text": [
      "No puedo hacer la raíz de un número negativo!\n"
     ]
    }
   ],
   "source": [
    "if num > 0:\n",
    "    raiz = sqrt(num)\n",
    "elif num == 0:\n",
    "    print(\"Para qué quieres saber eso jaja saludos\")\n",
    "else:\n",
    "    print(\"No puedo hacer la raíz de un número negativo!\")"
   ]
  },
  {
   "cell_type": "markdown",
   "metadata": {},
   "source": [
    "# `while`\n",
    "\n",
    "En el ejemplo anterior le decíamos al usuario que no podíamos hacer la raíz negativa de un número pero, ¿cómo haríamos para, en vez de darle este mensaje, volver a pedirle un número una y otra vez hasta que fuese negativo? Necesitamos ejecutar el mismo código hasta que se dé la condición que buscamos: que el usuario introduzca un número positivo.\n",
    "\n",
    "Esto podemos hacerlo usando un __bucle `while`__! "
   ]
  },
  {
   "cell_type": "code",
   "execution_count": 34,
   "metadata": {
    "collapsed": false
   },
   "outputs": [
    {
     "name": "stdout",
     "output_type": "stream",
     "text": [
      "Introduce un número: -5\n",
      "Introduce un número: 4\n",
      "2.0\n"
     ]
    }
   ],
   "source": [
    "num = int(input(\"Introduce un número: \"))\n",
    "\n",
    "while (num < 0):\n",
    "    num = int(input(\"Introduce un número: \"))\n",
    "\n",
    "raiz = sqrt(num)\n",
    "print(raiz)"
   ]
  },
  {
   "cell_type": "markdown",
   "metadata": {},
   "source": [
    "### Ejercicio\n",
    "\n",
    "__Haz un bucle `while` que imprima todos los números desde el 0 hasta un número que introduzca el usuario. Si el número que introduce es negativo puedes tomar dos decisiones: pedirle que introduzca un número positivo o contar hacia atrás, tú eliges!__"
   ]
  },
  {
   "cell_type": "code",
   "execution_count": null,
   "metadata": {
    "collapsed": true
   },
   "outputs": [],
   "source": []
  },
  {
   "cell_type": "markdown",
   "metadata": {},
   "source": [
    "## `for`"
   ]
  },
  {
   "cell_type": "markdown",
   "metadata": {
    "deletable": true,
    "editable": true
   },
   "source": [
    "# Estructuras de datos\n",
    "Por ahora sólo hemos estudiado variables en las que podemos guardar un único valor: un número, una letra, una frase... ¿No te da la impresión de que esto se queda algo corto? Sí, y probablemente no eres la única persona que lo ha pensado. Las __estructuras de datos__ son variables compuestas, esto quiere decir que en ellas podemos almacenar muchos datos. Hay estructuras de datos de todo tipo, en python tenemos las siguientes:\n",
    "\n",
    "* __Listas__\n",
    "* __Tuplas__\n",
    "* __Conjuntos__\n",
    "* __Diccionarios__\n",
    "* __Colas__\n",
    "\n",
    "## Listas\n",
    "Imagina que quieres guardar en una variable los nombres de tus mejores amigos. Una muy buena opción para hacerlo es una lista. Al igual que en la vida real hacemos listas como _lista de cosas por hacer_, _lista para la compra_, _lista de propósitos de año nuevo_, etc. en Python también podemos hacerlas usando esta estructura de datos.\n",
    "\n",
    "Con las listas, podemos guardar en un mismo sitio variables relacionadas entre sí. Esto nos permite poder aplicar operaciones sobre todas ellas sin tener que repetir código. \n",
    "\n",
    "Para declarar una lista, usaremos los []."
   ]
  },
  {
   "cell_type": "code",
   "execution_count": 7,
   "metadata": {
    "collapsed": false,
    "deletable": true,
    "editable": true
   },
   "outputs": [
    {
     "name": "stdout",
     "output_type": "stream",
     "text": [
      "['Paloma', 'Paula', 'Teresa', 'Marina', 'Braulio']\n"
     ]
    }
   ],
   "source": [
    "mis_amigos = ['Paloma', 'Paula', 'Teresa', 'Marina', 'Braulio']\n",
    "print(mis_amigos)"
   ]
  },
  {
   "cell_type": "markdown",
   "metadata": {
    "deletable": true,
    "editable": true
   },
   "source": [
    "Al imprimir la lista vemos los diferentes elementos que contiene. Pero, ¿y si queremos acceder a sólo uno de los elementos? En ese caso, necesitarás acceder mediante __índices__. Cada elemento de la lista tiene un número asociado con su posición dentro de la misma:\n",
    "\n",
    "| Elemento | Posición |\n",
    "|:--------:|:--------:|\n",
    "|Paloma    | 0        |\n",
    "|Paula     | 1        |\n",
    "|Teresa    | 2        |\n",
    "|Marina    | 3        |\n",
    "|Braulio   | 4        |\n",
    "\n",
    "así, si por ejemplo queremos únicamente mostrar a nuestro mejor amigo, accederemos a él mediante el índice 0:"
   ]
  },
  {
   "cell_type": "code",
   "execution_count": 8,
   "metadata": {
    "collapsed": false,
    "deletable": true,
    "editable": true
   },
   "outputs": [
    {
     "data": {
      "text/plain": [
       "'Paloma'"
      ]
     },
     "execution_count": 8,
     "metadata": {},
     "output_type": "execute_result"
    }
   ],
   "source": [
    "mis_amigos[0]"
   ]
  },
  {
   "cell_type": "markdown",
   "metadata": {
    "deletable": true,
    "editable": true
   },
   "source": [
    "Si intentamos acceder a un índice superior al último de todos, 4, obtendremos un error:"
   ]
  },
  {
   "cell_type": "code",
   "execution_count": 9,
   "metadata": {
    "collapsed": false,
    "deletable": true,
    "editable": true
   },
   "outputs": [
    {
     "ename": "IndexError",
     "evalue": "list index out of range",
     "output_type": "error",
     "traceback": [
      "\u001b[0;31m----------------------------------------------------------\u001b[0m",
      "\u001b[0;31mIndexError\u001b[0m               Traceback (most recent call last)",
      "\u001b[0;32m<ipython-input-9-098c31af022d>\u001b[0m in \u001b[0;36m<module>\u001b[0;34m()\u001b[0m\n\u001b[0;32m----> 1\u001b[0;31m \u001b[0mmis_amigos\u001b[0m\u001b[0;34m[\u001b[0m\u001b[0;36m5\u001b[0m\u001b[0;34m]\u001b[0m\u001b[0;34m\u001b[0m\u001b[0m\n\u001b[0m",
      "\u001b[0;31mIndexError\u001b[0m: list index out of range"
     ]
    }
   ],
   "source": [
    "mis_amigos[5]"
   ]
  },
  {
   "cell_type": "markdown",
   "metadata": {
    "deletable": true,
    "editable": true
   },
   "source": [
    "Entonces, uno podría pensar que está _obligado_ a conocer la longitud de la lista si quiere acceder al último elemento pero nada más lejos de la realidad! En python, también existen los índices inversos que nos permiten acceder a los elementos de la lista al revés:\n",
    "\n",
    "| Elemento | Posición |\n",
    "|:--------:|:--------:|\n",
    "|Paloma    | -5       |\n",
    "|Paula     | -4       |\n",
    "|Teresa    | -3       |\n",
    "|Marina    | -2       |\n",
    "|Braulio   | -1       |\n",
    "\n",
    "Por lo que para acceder al último elemento de nuestra lista sólo tendríamos que usar el índice -1:"
   ]
  },
  {
   "cell_type": "code",
   "execution_count": 10,
   "metadata": {
    "collapsed": false,
    "deletable": true,
    "editable": true
   },
   "outputs": [
    {
     "data": {
      "text/plain": [
       "'Braulio'"
      ]
     },
     "execution_count": 10,
     "metadata": {},
     "output_type": "execute_result"
    }
   ],
   "source": [
    "mis_amigos[-1]"
   ]
  },
  {
   "cell_type": "markdown",
   "metadata": {
    "deletable": true,
    "editable": true
   },
   "source": [
    "Otra cosa que nos podemos hacer usando índices es quedarnos con una sublista. Por ejemplo, si quisiéramos quedarnos únicamente con un top 3 de amigos guays podríamos hacerlo usando el operador :"
   ]
  },
  {
   "cell_type": "code",
   "execution_count": 11,
   "metadata": {
    "collapsed": false,
    "deletable": true,
    "editable": true
   },
   "outputs": [
    {
     "data": {
      "text/plain": [
       "['Paloma', 'Paula', 'Teresa']"
      ]
     },
     "execution_count": 11,
     "metadata": {},
     "output_type": "execute_result"
    }
   ],
   "source": [
    "mis_amigos[0:3]"
   ]
  },
  {
   "cell_type": "markdown",
   "metadata": {
    "deletable": true,
    "editable": true
   },
   "source": [
    "Pero si queremos quedarnos con los tres primeros, podemos simplemente hacerlo de la siguiente forma:"
   ]
  },
  {
   "cell_type": "code",
   "execution_count": 12,
   "metadata": {
    "collapsed": false,
    "deletable": true,
    "editable": true
   },
   "outputs": [
    {
     "data": {
      "text/plain": [
       "['Paloma', 'Paula', 'Teresa']"
      ]
     },
     "execution_count": 12,
     "metadata": {},
     "output_type": "execute_result"
    }
   ],
   "source": [
    "mis_amigos[:3]"
   ]
  },
  {
   "cell_type": "markdown",
   "metadata": {
    "deletable": true,
    "editable": true
   },
   "source": [
    "¿Y si queremos saber el resto? Simplemente, lo hacemos al revés!"
   ]
  },
  {
   "cell_type": "code",
   "execution_count": 13,
   "metadata": {
    "collapsed": false,
    "deletable": true,
    "editable": true
   },
   "outputs": [
    {
     "data": {
      "text/plain": [
       "['Marina', 'Braulio']"
      ]
     },
     "execution_count": 13,
     "metadata": {},
     "output_type": "execute_result"
    }
   ],
   "source": [
    "mis_amigos[3:]"
   ]
  },
  {
   "cell_type": "markdown",
   "metadata": {
    "deletable": true,
    "editable": true
   },
   "source": [
    "### Ejercicio:\n",
    "__Haz una lista de la compra e imprime los siguientes elementos__:\n",
    "\n",
    "* __Penúltimo elemento__\n",
    "* __Del segundo al cuarto elemento__\n",
    "* __Los tres últimos__\n",
    "* __Todos!__\n"
   ]
  },
  {
   "cell_type": "code",
   "execution_count": null,
   "metadata": {
    "collapsed": true,
    "deletable": true,
    "editable": true
   },
   "outputs": [],
   "source": []
  },
  {
   "cell_type": "markdown",
   "metadata": {
    "deletable": true,
    "editable": true
   },
   "source": [
    "## Tuplas\n",
    "\n",
    "Imagina que deseas guardar tanto los nombres de tus mejores amigos como su edad. De primeras podrías pensar en hacer dos listas, de la siguiente forma:\n",
    "\n",
    "| índice | 0 | 1 | 2 | 3 | 4 |\n",
    "|:------:|:-:|:-:|:-:|:-:|:-:|\n",
    "| nombres| Paloma | Paula | Teresa | Marina | Braulio |\n",
    "| edades | 25 | 20 | 19 | 19 | 21 |\n",
    "\n",
    "De tal forma que para saber la edad de Paloma (primer elemento de la lista `nombres`) tendríamos que mirar el primer elemento de la lista `edades`. Pero, ¿y si te dijera que en Python podríamos guardar en una misma variable la edad y el nombre de una persona? Se puede! Con las llamadas __tuplas__.\n",
    "\n",
    "Una __tupla__ es una serie de valores separados por comas."
   ]
  },
  {
   "cell_type": "code",
   "execution_count": 14,
   "metadata": {
    "collapsed": false,
    "deletable": true,
    "editable": true
   },
   "outputs": [
    {
     "name": "stdout",
     "output_type": "stream",
     "text": [
      "(5, 'perro', 3.6)\n"
     ]
    }
   ],
   "source": [
    "tupla_ejemplo = 5, 'perro', 3.6\n",
    "print(tupla_ejemplo)"
   ]
  },
  {
   "cell_type": "markdown",
   "metadata": {
    "deletable": true,
    "editable": true
   },
   "source": [
    "Por tanto, para guardar en una lista tanto el nombre como la edad de nuestros amigos podríamos hacerlo de la siguiente forma:"
   ]
  },
  {
   "cell_type": "code",
   "execution_count": 15,
   "metadata": {
    "collapsed": false,
    "deletable": true,
    "editable": true
   },
   "outputs": [
    {
     "name": "stdout",
     "output_type": "stream",
     "text": [
      "[('Paloma', 25), ('Paula', 20), ('Teresa', 19), ('Marina', 19), ('Braulio', 21)]\n"
     ]
    }
   ],
   "source": [
    "amigos_edades = [('Paloma', 25), ('Paula', 20), ('Teresa', 19), ('Marina', 19), ('Braulio', 21)]\n",
    "print(amigos_edades)"
   ]
  },
  {
   "cell_type": "markdown",
   "metadata": {
    "deletable": true,
    "editable": true
   },
   "source": [
    "Los valores de las tuplas también tienen índices, por tanto, en nuestro caso el nombre tendría el índice 0 y la edad el índice 1. Por tanto, si queremos acceder a la edad de _Paloma_ tenemos que usar el operador `[]` dos veces: una para acceder al elemento de la lista que queremos y otra para acceder al elemento de la tupla que queremos."
   ]
  },
  {
   "cell_type": "code",
   "execution_count": 16,
   "metadata": {
    "collapsed": false,
    "deletable": true,
    "editable": true
   },
   "outputs": [
    {
     "data": {
      "text/plain": [
       "25"
      ]
     },
     "execution_count": 16,
     "metadata": {},
     "output_type": "execute_result"
    }
   ],
   "source": [
    "amigos_edades[0][1]"
   ]
  },
  {
   "cell_type": "markdown",
   "metadata": {
    "deletable": true,
    "editable": true
   },
   "source": [
    "Si queremos crear dos variables separadas para guardar el nombre y la edad de nuestro mejor amigo, podemos hacerlo en una sola línea!"
   ]
  },
  {
   "cell_type": "code",
   "execution_count": 17,
   "metadata": {
    "collapsed": false,
    "deletable": true,
    "editable": true
   },
   "outputs": [
    {
     "name": "stdout",
     "output_type": "stream",
     "text": [
      "Paloma\n",
      "25\n"
     ]
    }
   ],
   "source": [
    "nombre, edad = amigos_edades[0]\n",
    "\n",
    "print(nombre)\n",
    "print(edad)"
   ]
  },
  {
   "cell_type": "markdown",
   "metadata": {
    "deletable": true,
    "editable": true
   },
   "source": [
    "### Ejercicio:\n",
    "__Vuelve a hacer la lista de la compra que hiciste en el último ejercicio, pero esta vez guarda cada elemento de la lista de la compra junto con su precio. Después, imprime los siguientes elementos:__\n",
    "\n",
    "* __El precio del tercer elemento.__\n",
    "* __El nombre del último elemento.__\n",
    "* __Tanto el nombre como el precio del primer elemento__."
   ]
  },
  {
   "cell_type": "code",
   "execution_count": null,
   "metadata": {
    "collapsed": true,
    "deletable": true,
    "editable": true
   },
   "outputs": [],
   "source": []
  },
  {
   "cell_type": "markdown",
   "metadata": {
    "deletable": true,
    "editable": true
   },
   "source": [
    "## Cojuntos\n",
    "\n",
    "Un conjunto es una lista de elementos ordenados y en la que no hay elementos repetidos. Se definen con el operador `{`. Sus operadores básicos son eliminar elementos repetidos, consultar si un elemento está en el conjunto o no y, por supuesto, operaciones típicas de los conjuntos como la unión, la intersección, la diferencia...\n",
    "\n",
    "¿Qué ventajas puede darte usar un conjunto en lugar de una lista? Al estar ordenados, es mucho más rápido encontrar un elemento aunque esto también hace que insertar nuevos elementos sea más costoso.\n",
    "\n",
    "Podemos crear un conjunto a partir de una lista:"
   ]
  },
  {
   "cell_type": "code",
   "execution_count": 18,
   "metadata": {
    "collapsed": false,
    "deletable": true,
    "editable": true
   },
   "outputs": [
    {
     "name": "stdout",
     "output_type": "stream",
     "text": [
      "[5, 4, 6, 3, 7, 5, 1, 9, 3]\n",
      "{1, 3, 4, 5, 6, 7, 9}\n"
     ]
    }
   ],
   "source": [
    "mi_lista = [5,4,6,3,7,5,1,9,3]\n",
    "print(mi_lista)\n",
    "mi_conjunto = set(mi_lista)\n",
    "print(mi_conjunto)"
   ]
  },
  {
   "cell_type": "markdown",
   "metadata": {
    "deletable": true,
    "editable": true
   },
   "source": [
    "### Ejercicio\n",
    "\n",
    "__¿Es buena idea usar la función `set` para eliminar los elementos repetidos de una lista?__ "
   ]
  },
  {
   "cell_type": "markdown",
   "metadata": {
    "deletable": true,
    "editable": true
   },
   "source": []
  },
  {
   "cell_type": "markdown",
   "metadata": {
    "deletable": true,
    "editable": true
   },
   "source": [
    "Un último detalle sobre conjuntos: para crear un conjunto vacío usamos `set()` ya que usar `{}` creará un diccionario vacío.\n",
    "\n",
    "## Diccionarios\n",
    "A diferencia de las estructuras de datos que hemos visto hasta ahora, los diccionarios no se indexan por números sino por ___claves___ (_keys_). Cada entrada de nuestro diccionario está formada por dos valores distintos: la clave y el valor. La clave nos sirve para acceder al elemento (valor) de forma rápida. Debido a que las claves sirven para identificar a cada elemento,deben ser únicas: si introduces un nuevo elemento en el diccionario con clave repetida, __se sobreescribirá el elemento anterior__ así que ¡mucho cuidado!\n",
    "\n",
    "Vamos a ver un pequeño ejemplo de uso de los diccionarios para que nos quede más claro. Volvamos al ejemplo anterior sobre nuestros amigos y su edad."
   ]
  },
  {
   "cell_type": "code",
   "execution_count": 19,
   "metadata": {
    "collapsed": false,
    "deletable": true,
    "editable": true
   },
   "outputs": [
    {
     "name": "stdout",
     "output_type": "stream",
     "text": [
      "{'Marina': 19, 'Paloma': 25, 'Braulio': 21, 'Teresa': 19, 'Paula': 20}\n"
     ]
    }
   ],
   "source": [
    "mis_amigos = {'Paloma':25, 'Paula':20, 'Teresa':19, 'Marina':19, 'Braulio':21}\n",
    "print(mis_amigos)"
   ]
  },
  {
   "cell_type": "markdown",
   "metadata": {
    "deletable": true,
    "editable": true
   },
   "source": [
    "Para obtener la edad de _Paloma_, antes teníamos que estar mirando qué índice tenía en la lista, en cambio, ahora lo tenemos mucho más sencillo:"
   ]
  },
  {
   "cell_type": "code",
   "execution_count": 20,
   "metadata": {
    "collapsed": false,
    "deletable": true,
    "editable": true
   },
   "outputs": [
    {
     "name": "stdout",
     "output_type": "stream",
     "text": [
      "25\n"
     ]
    }
   ],
   "source": [
    "print(mis_amigos['Paloma'])"
   ]
  },
  {
   "cell_type": "markdown",
   "metadata": {
    "deletable": true,
    "editable": true
   },
   "source": [
    "Si queremos saber los nombres de cada uno de nuestros amigos podemos listar las claves:"
   ]
  },
  {
   "cell_type": "code",
   "execution_count": 21,
   "metadata": {
    "collapsed": false,
    "deletable": true,
    "editable": true
   },
   "outputs": [
    {
     "data": {
      "text/plain": [
       "['Marina', 'Paloma', 'Braulio', 'Teresa', 'Paula']"
      ]
     },
     "execution_count": 21,
     "metadata": {},
     "output_type": "execute_result"
    }
   ],
   "source": [
    "list(mis_amigos.keys())"
   ]
  },
  {
   "cell_type": "markdown",
   "metadata": {
    "deletable": true,
    "editable": true
   },
   "source": [
    "Y también podemos ver si hemos incluido a un amigo o no en nuestro diccionario:"
   ]
  },
  {
   "cell_type": "code",
   "execution_count": 22,
   "metadata": {
    "collapsed": false,
    "deletable": true,
    "editable": true
   },
   "outputs": [
    {
     "data": {
      "text/plain": [
       "False"
      ]
     },
     "execution_count": 22,
     "metadata": {},
     "output_type": "execute_result"
    }
   ],
   "source": [
    "'Marta' in mis_amigos"
   ]
  },
  {
   "cell_type": "markdown",
   "metadata": {
    "deletable": true,
    "editable": true
   },
   "source": [
    "La función `dict` nos permite hacer diccionarios directamente desde Tuplas de la siguiente forma:"
   ]
  },
  {
   "cell_type": "code",
   "execution_count": 23,
   "metadata": {
    "collapsed": false,
    "deletable": true,
    "editable": true
   },
   "outputs": [
    {
     "name": "stdout",
     "output_type": "stream",
     "text": [
      "{'Marina': 19, 'Paloma': 25, 'Braulio': 21, 'Teresa': 19, 'Paula': 20}\n"
     ]
    }
   ],
   "source": [
    "mis_amigos_tupla = dict([('Paloma',25), ('Paula',20), ('Teresa',19), ('Marina', 19), \n",
    "                         ('Braulio', 21)])\n",
    "print(mis_amigos_tupla)"
   ]
  },
  {
   "cell_type": "markdown",
   "metadata": {
    "deletable": true,
    "editable": true
   },
   "source": [
    "### Ejercicio\n",
    "\n",
    "__Usando la tupla que creaste en el ejercicio sobre tuplas, crea un diccionario de tu lista de la compra. Una vez tengas el diccionario creado:__\n",
    "\n",
    "* __Imprime todos los elementos que vayas a comprar__\n",
    "* __Consulta si has añadido un elemento a la lista de la compra__\n",
    "* __Elimina un elemento usando la función `del`__"
   ]
  },
  {
   "cell_type": "code",
   "execution_count": null,
   "metadata": {
    "collapsed": true,
    "deletable": true,
    "editable": true
   },
   "outputs": [],
   "source": []
  }
 ],
 "metadata": {
  "kernelspec": {
   "display_name": "Python 3",
   "language": "python",
   "name": "python3"
  },
  "language_info": {
   "codemirror_mode": {
    "name": "ipython",
    "version": 3
   },
   "file_extension": ".py",
   "mimetype": "text/x-python",
   "name": "python",
   "nbconvert_exporter": "python",
   "pygments_lexer": "ipython3",
   "version": "3.6.0"
  }
 },
 "nbformat": 4,
 "nbformat_minor": 2
}
