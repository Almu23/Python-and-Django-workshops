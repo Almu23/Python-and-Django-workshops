{
 "cells": [
  {
   "cell_type": "markdown",
   "metadata": {},
   "source": [
    "# ¿Qué es programar?\n",
    "Un programa de ordenador es una serie de __instrucciones__ que le dicen a la máquina qué tiene que hacer. Las máquinas no entienden nuestro lenguaje, por lo que tenemos que aprender un lenguaje para poder comunicarnos con ellas y dárles órdenes. Hay muchísimos lenguajes de programación hoy en día, cada lenguaje se usa para hacer un tipo de programa. Por ejemplo, si quieres hacer una página web puedes usar _HTML_, _CSS_ y _Javascript_, si quieres hacer un programa para consultar una base de datos puedes usar _SQL_. En el caso de __Python__, es un lenguaje usado para muchas cosas: desde hacer cálculos científicos hasta programación web, pasando por robótica, seguridad, ciencia de datos, física y muchísimas cosas más. Además, _Python_ es muy sencillo de entender y programar, ya que simplifica muchas tareas que en otros lenguajes como _C_ son muy tediosas. Por eso, es ideal para entender los conceptos básicos de programación y para iniciarse en este mundillo.\n",
    "\n",
    "# Instalación\n",
    "## Linux\n",
    "_Python_ viene instalado por defecto en todas las distribuciones Linux. En _Ubuntu_, la versión que viene instalada es `python2` y en otras distribuciones como _Arch Linux_, la versión es `python3`. Lo recomendable si vas a iniciarte en _Python_ es que empieces directamente por `python3`. Para comprobar la versión que tenemos instalada ejecutamos el siguiente comando en consola:\n",
    "\n",
    "```\n",
    "[pepito@PCdePepito ~]$ python -V\n",
    "Python 3.6.0\n",
    "```\n",
    "En mi caso, tengo la versión 3.6 instalada. En el caso de que tengas una versión de `python2`, instala la versión 3 usando el siguiente comando:\n",
    "\n",
    "* __Ubuntu__: `sudo apt-get install python3`\n",
    "* __CentOS__: `sudo yum install python3`\n",
    "\n",
    "## Windows y Mac OS\n",
    "Para instalar _Python_ en otros sistemas operativos, descarga el instalador de la [página oficial de python](http://www.python.org/).\n",
    "\n",
    "# La consola de Python\n",
    "_Python_ es un lenguaje de programación interpretado, ¿qué quiere decir esto? que interpreta cada instrucción que hemos escrito en nuestro programa a la hora de ejecutar. Otros lenguajes, como _C_ o _Java_ son compilados, por lo que necesitamos generar un ejecutable (los famosos `.exe`, para que nos entendamos) para poder ejecutarlos. El hecho de que _Python_ sea interpretado nos permite tener una consola donde introducir comandos sin tener que crear un programa y compilarlo. Podemos ejecutar esta consola simplemente ejecutando el siguiente comando:\n",
    "\n",
    "```\n",
    "[marta@marta-PC ~]$ python\n",
    "Python 3.6.0 (default, Dec 24 2016, 08:03:08) \n",
    "[GCC 6.2.1 20160830] on linux\n",
    "Type \"help\", \"copyright\", \"credits\" or \"license\" for more information.\n",
    ">>>\n",
    "```\n",
    "\n",
    "# Jupyter\n",
    "Un _notebook_ de __Jupyter__ es una especie de consola de Python que nos permite poder escribir comentarios en Markdown. Es muy útil para poder hacer tutoriales como éste, ya que dispones de la explicación y el código para ejecutar y probar en el mismo sitio. Vamos a empezar a usar la consola de python incluida en jupyter para hacer las primeras pruebas."
   ]
  },
  {
   "cell_type": "code",
   "execution_count": 2,
   "metadata": {
    "collapsed": false
   },
   "outputs": [
    {
     "name": "stdout",
     "output_type": "stream",
     "text": [
      "Hola mundo!\n"
     ]
    }
   ],
   "source": [
    "print(\"Hola mundo!\")"
   ]
  },
  {
   "cell_type": "markdown",
   "metadata": {},
   "source": []
  }
 ],
 "metadata": {
  "kernelspec": {
   "display_name": "Python 3",
   "language": "python",
   "name": "python3"
  },
  "language_info": {
   "codemirror_mode": {
    "name": "ipython",
    "version": 3
   },
   "file_extension": ".py",
   "mimetype": "text/x-python",
   "name": "python",
   "nbconvert_exporter": "python",
   "pygments_lexer": "ipython3",
   "version": "3.6.0"
  }
 },
 "nbformat": 4,
 "nbformat_minor": 2
}
