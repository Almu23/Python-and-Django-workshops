{
 "cells": [
  {
   "cell_type": "markdown",
   "metadata": {
    "deletable": true,
    "editable": true
   },
   "source": [
    "# Soluciones a los ejercicios propuestos\n",
    "## Nivel básico"
   ]
  },
  {
   "cell_type": "markdown",
   "metadata": {
    "deletable": true,
    "editable": true
   },
   "source": [
    "### 1.\n",
    "\n",
    "__Haz un pequeño programa que le pida al usuario introducir dos números ($x_1$ y $x_2$), calcule la siguiente operación y muestre el resultado de la misma ($x$):__\n",
    "\n",
    "$$ x = \\frac{20 * x_1 - x_2}{x_2 + 3} $$\n",
    "\n",
    "__Si intentas operar con el resultado de la función input obtendrás un error que te informa que no se pueden restar dos datos de tipo str. Usa la función int para convertir los datos introducidos por teclado a datos numéricos.__"
   ]
  },
  {
   "cell_type": "code",
   "execution_count": 1,
   "metadata": {
    "collapsed": false,
    "deletable": true,
    "editable": true
   },
   "outputs": [
    {
     "name": "stdout",
     "output_type": "stream",
     "text": [
      "Introduce un número: 1\n",
      "Y ahora otro: 2\n",
      "x = 3.6\n"
     ]
    }
   ],
   "source": [
    "x1 = int(input(\"Introduce un número: \"))\n",
    "x2 = int(input(\"Y ahora otro: \"))\n",
    "x = (20 * x1 - x2)/(x2 + 3)\n",
    "\n",
    "print(\"x =\",x)"
   ]
  },
  {
   "cell_type": "markdown",
   "metadata": {
    "deletable": true,
    "editable": true
   },
   "source": [
    "### 2.\n",
    "\n",
    "__Haz un programa que le pida al usuario un número (de ninjas). Si dicho número es menor que 50 y es par, el programa imprimirá \"puedo con ellos!\", en caso contrario imprimirá \"no me vendría mal una ayudita...\"__\n",
    "\n",
    "Nota: para saber si un número es par o no debes usar el operador $\\%$ y para saber si dos condiciones se cuplen a la vez, el operador lógico and\n"
   ]
  },
  {
   "cell_type": "code",
   "execution_count": 2,
   "metadata": {
    "collapsed": false,
    "deletable": true,
    "editable": true
   },
   "outputs": [
    {
     "name": "stdout",
     "output_type": "stream",
     "text": [
      "Introduce número de ninjas: 105\n",
      "No me vendría mal una ayudita...\n"
     ]
    }
   ],
   "source": [
    "num = int(input(\"Introduce número de ninjas: \"))\n",
    "if num < 50 and num%2==0:\n",
    "    print(\"Puedo con ellos!\")\n",
    "else:\n",
    "    print(\"No me vendría mal una ayudita...\")"
   ]
  },
  {
   "cell_type": "markdown",
   "metadata": {
    "deletable": true,
    "editable": true
   },
   "source": [
    "### 3.\n",
    "\n",
    "__Haz un bucle `while` que imprima todos los números desde el 0 hasta un número que introduzca el usuario. Si el número que introduce es negativo puedes tomar dos decisiones: pedirle que introduzca un número positivo o contar hacia atrás, tú eliges!__"
   ]
  },
  {
   "cell_type": "code",
   "execution_count": 3,
   "metadata": {
    "collapsed": false,
    "deletable": true,
    "editable": true
   },
   "outputs": [
    {
     "name": "stdout",
     "output_type": "stream",
     "text": [
      "Intoduce un número: -5\n",
      "Introduce un número: 5\n",
      "0\n",
      "1\n",
      "2\n",
      "3\n",
      "4\n",
      "5\n"
     ]
    }
   ],
   "source": [
    "num = int(input(\"Intoduce un número: \"))\n",
    "\n",
    "# Opción 1: si el usuario introduce un número negativo pedir otro número\n",
    "while num < 0:\n",
    "    num = int(input(\"Introduce un número: \"))\n",
    "\n",
    "i = 0\n",
    "while i <= num:\n",
    "    print(i)\n",
    "    i += 1"
   ]
  },
  {
   "cell_type": "code",
   "execution_count": 4,
   "metadata": {
    "collapsed": false,
    "deletable": true,
    "editable": true
   },
   "outputs": [
    {
     "name": "stdout",
     "output_type": "stream",
     "text": [
      "Intoduce un número: 5\n",
      "0\n",
      "1\n",
      "2\n",
      "3\n",
      "4\n",
      "5\n"
     ]
    }
   ],
   "source": [
    "num = int(input(\"Intoduce un número: \"))\n",
    "\n",
    "# Opción 2: si el usuario introduce un número negativo, contar hacia atrás\n",
    "sign = lambda x: (1, -1)[x < 0]\n",
    "\n",
    "i = 0\n",
    "s = sign(num)\n",
    "while i*s <= num*s:\n",
    "    print(i)\n",
    "    i += s"
   ]
  },
  {
   "cell_type": "markdown",
   "metadata": {
    "collapsed": true,
    "deletable": true,
    "editable": true
   },
   "source": [
    "### 4.\n",
    "\n",
    "__Genera con range los números pares del 0 al 10, ambos inclusive. ¿Qué cambiarías para generar del 2 al 10?__"
   ]
  },
  {
   "cell_type": "code",
   "execution_count": 5,
   "metadata": {
    "collapsed": false,
    "deletable": true,
    "editable": true
   },
   "outputs": [
    {
     "name": "stdout",
     "output_type": "stream",
     "text": [
      "0\n",
      "1\n",
      "2\n",
      "3\n",
      "4\n",
      "5\n",
      "6\n",
      "7\n",
      "8\n",
      "9\n",
      "10\n"
     ]
    }
   ],
   "source": [
    "# Para generar del 0 al 10 ambos inclusive:\n",
    "for i in range(0,11):\n",
    "    print(i)"
   ]
  },
  {
   "cell_type": "code",
   "execution_count": 6,
   "metadata": {
    "collapsed": false,
    "deletable": true,
    "editable": true
   },
   "outputs": [
    {
     "name": "stdout",
     "output_type": "stream",
     "text": [
      "2\n",
      "4\n",
      "6\n",
      "8\n",
      "10\n"
     ]
    }
   ],
   "source": [
    "# Para generar del 2 al 10 sólo con números pares\n",
    "for i in range(2, 11, 2):\n",
    "    print(i)"
   ]
  },
  {
   "cell_type": "markdown",
   "metadata": {
    "deletable": true,
    "editable": true
   },
   "source": [
    "### 5.\n",
    "__¿Cuál es la diferencia entre la sentencia `break` y la sentencia `continue`?__"
   ]
  },
  {
   "cell_type": "markdown",
   "metadata": {
    "deletable": true,
    "editable": true
   },
   "source": [
    "Cuando en un bucle se lee una instrucción `break` o una instrucción `continue`, se interumpe la iteración actual. Ahora bien, en el caso de `break`, se abandona el bucle y en el caso de `continue` se pasa a la siguiente iteración. Por ejemplo, el siguiente bucle imprime si un número es par o impar:"
   ]
  },
  {
   "cell_type": "code",
   "execution_count": 7,
   "metadata": {
    "collapsed": false,
    "deletable": true,
    "editable": true
   },
   "outputs": [
    {
     "name": "stdout",
     "output_type": "stream",
     "text": [
      "2 es par!\n",
      "3 es impar!\n",
      "4 es par!\n",
      "5 es impar!\n",
      "6 es par!\n",
      "7 es impar!\n",
      "8 es par!\n",
      "9 es impar!\n"
     ]
    }
   ],
   "source": [
    "for num in range(2,10):\n",
    "    if num % 2 == 0:\n",
    "        print(num, \"es par!\")\n",
    "        continue\n",
    "    print(num, \"es impar!\")"
   ]
  },
  {
   "cell_type": "markdown",
   "metadata": {
    "deletable": true,
    "editable": true
   },
   "source": [
    "### 6.\n",
    "\n",
    "__Haz una lista de la compra e imprime los siguientes elementos:__\n",
    "\n",
    "* __Penúltimo elemento__\n",
    "* __Del segundo al cuarto elemento__\n",
    "* __Los tres últimos__\n",
    "* __Todos!__\n",
    "\n",
    "__Por último, elimina el tercer elemento de la lista usando la sentencia `del`__\n"
   ]
  },
  {
   "cell_type": "code",
   "execution_count": 8,
   "metadata": {
    "collapsed": false,
    "deletable": true,
    "editable": true
   },
   "outputs": [
    {
     "name": "stdout",
     "output_type": "stream",
     "text": [
      "Penúltimo elemento:  Arroz\n",
      "Del segundo al cuarto elemento:  ['Chocolate', 'Arroz', 'Macarrones']\n",
      "Los tres últimos elementos:  ['Chocolate', 'Arroz', 'Macarrones']\n",
      "Todos:  ['Leche', 'Chocolate', 'Arroz', 'Macarrones']\n",
      "['Leche', 'Chocolate', 'Macarrones']\n"
     ]
    }
   ],
   "source": [
    "lista_compra = ['Leche', 'Chocolate', 'Arroz', 'Macarrones']\n",
    "\n",
    "print(\"Penúltimo elemento: \", lista_compra[-2])\n",
    "print(\"Del segundo al cuarto elemento: \", lista_compra[1:5])\n",
    "print(\"Los tres últimos elementos: \", lista_compra[-3:])\n",
    "print(\"Todos: \", lista_compra)\n",
    "\n",
    "del lista_compra[2]\n",
    "print(lista_compra)"
   ]
  },
  {
   "cell_type": "markdown",
   "metadata": {
    "deletable": true,
    "editable": true
   },
   "source": [
    "### 7.\n",
    "\n",
    "__Crea una lista con todos los números pares del 0 al 10 en una única línea.__"
   ]
  },
  {
   "cell_type": "code",
   "execution_count": 9,
   "metadata": {
    "collapsed": false,
    "deletable": true,
    "editable": true
   },
   "outputs": [
    {
     "data": {
      "text/plain": [
       "[0, 2, 4, 6, 8]"
      ]
     },
     "execution_count": 9,
     "metadata": {},
     "output_type": "execute_result"
    }
   ],
   "source": [
    "# solución 1:\n",
    "[x for x in range(10) if x%2==0]"
   ]
  },
  {
   "cell_type": "code",
   "execution_count": 10,
   "metadata": {
    "collapsed": false,
    "deletable": true,
    "editable": true
   },
   "outputs": [
    {
     "data": {
      "text/plain": [
       "[0, 2, 4, 6, 8]"
      ]
     },
     "execution_count": 10,
     "metadata": {},
     "output_type": "execute_result"
    }
   ],
   "source": [
    "# solución 2:\n",
    "list(range(0,10,2))"
   ]
  },
  {
   "cell_type": "markdown",
   "metadata": {
    "deletable": true,
    "editable": true
   },
   "source": [
    "### 8.\n",
    "\n",
    "__Crea la siguiente matriz en una línea:__\n",
    "\n",
    "$$ M_{2 \\times 3} = \\left( \\begin{matrix} 1 & 2 & 3 \\\\ \n",
    "4 & 5 & 6 \\end{matrix} \\right)$$"
   ]
  },
  {
   "cell_type": "code",
   "execution_count": 11,
   "metadata": {
    "collapsed": false,
    "deletable": true,
    "editable": true
   },
   "outputs": [
    {
     "data": {
      "text/plain": [
       "[[1, 2, 3], [4, 5, 6]]"
      ]
     },
     "execution_count": 11,
     "metadata": {},
     "output_type": "execute_result"
    }
   ],
   "source": [
    "[[j for j in range(i*i, i*i+3)] for i in range(1,3)]"
   ]
  },
  {
   "cell_type": "markdown",
   "metadata": {
    "deletable": true,
    "editable": true
   },
   "source": [
    "### 9.\n",
    "\n",
    "__Vuelve a hacer la lista de la compra que hiciste en el último ejercicio, pero esta vez guarda cada elemento de la lista de la compra junto con su precio. Después, imprime los siguientes elementos:__\n",
    "\n",
    "* __El precio del tercer elemento.__\n",
    "* __El nombre del último elemento.__\n",
    "* __Tanto el nombre como el precio del primer elemento.__\n"
   ]
  },
  {
   "cell_type": "code",
   "execution_count": 12,
   "metadata": {
    "collapsed": false,
    "deletable": true,
    "editable": true
   },
   "outputs": [
    {
     "name": "stdout",
     "output_type": "stream",
     "text": [
      "Precio del tercer elemento:  1.5\n",
      "Nombre del último elemento:  Macarrones\n",
      "Nombre y precio del primer elemento ('Leche', 2)\n"
     ]
    }
   ],
   "source": [
    "tuplas_compra = [('Leche', 2), ('Chocolate', 1), ('Arroz', 1.5), \n",
    "                 ('Macarrones', 2.1)]\n",
    "print(\"Precio del tercer elemento: \", tuplas_compra[2][1])\n",
    "print(\"Nombre del último elemento: \", tuplas_compra[-1][0])\n",
    "print(\"Nombre y precio del primer elemento\", tuplas_compra[0])"
   ]
  },
  {
   "cell_type": "markdown",
   "metadata": {
    "deletable": true,
    "editable": true
   },
   "source": [
    "### 10.\n",
    "\n",
    "__¿Es buena idea usar la función `set` para eliminar los elementos repetidos de una lista?__"
   ]
  },
  {
   "cell_type": "markdown",
   "metadata": {
    "deletable": true,
    "editable": true
   },
   "source": [
    "Al usar la función `set` para eliminar los elementos repetidos de una lista perdemos el orden original de nuestra lista. Además, no funcionará si nuestra lista es de diccionarios o de listas, debido a que no son objetos _hashables_."
   ]
  },
  {
   "cell_type": "markdown",
   "metadata": {
    "collapsed": true,
    "deletable": true,
    "editable": true
   },
   "source": [
    "### 11.\n",
    "\n",
    "__Usando la tupla que creaste en el ejercicio sobre tuplas, crea un diccionario de tu lista de la compra. Una vez tengas el diccionario creado:__\n",
    "\n",
    "* __Imprime todos los elementos que vayas a comprar creando la siguiente frase con la función `format`:__ \"he comprado `__` y me ha costado `__`\".\n",
    "* __Consulta si has añadido un determinado elemento (por ejemplo un cartón de leche) a la lista de la compra__\n",
    "* __Elimina un elemento usando la función `del`__\n"
   ]
  },
  {
   "cell_type": "code",
   "execution_count": 13,
   "metadata": {
    "collapsed": false,
    "deletable": true,
    "editable": true
   },
   "outputs": [
    {
     "name": "stdout",
     "output_type": "stream",
     "text": [
      "he comprado Leche y me ha costado 2\n",
      "he comprado Chocolate y me ha costado 1\n",
      "he comprado Arroz y me ha costado 1.5\n",
      "he comprado Macarrones y me ha costado 2.1\n",
      "He comprado leche? True\n",
      "{'Leche': 2, 'Chocolate': 1, 'Macarrones': 2.1}\n"
     ]
    }
   ],
   "source": [
    "dict_compra = dict(tuplas_compra)\n",
    "\n",
    "for compra in dict_compra.items():\n",
    "    print(\"he comprado {} y me ha costado {}\".format(compra[0], compra[1]))\n",
    "\n",
    "print('He comprado leche?', 'Leche' in dict_compra)\n",
    "\n",
    "del dict_compra['Arroz']\n",
    "print(dict_compra)"
   ]
  },
  {
   "cell_type": "markdown",
   "metadata": {
    "collapsed": true,
    "deletable": true,
    "editable": true
   },
   "source": [
    "## Nivel medio\n",
    "\n",
    "### 1.\n",
    "__Ahora que hemos visto cómo crear arrays a partir de un objeto y otros para crear arrays con tipos prefijados, crea distintos arrays con las funciones anteriores para 1D, 2D y 3D e imprímelas por pantalla. Prueba a usar distintos tipos para ver cómo cambian los arrays. Si tienes dudas sobre cómo usarlos, puedes consultar la documentación oficial.__"
   ]
  },
  {
   "cell_type": "code",
   "execution_count": 14,
   "metadata": {
    "collapsed": false,
    "deletable": true,
    "editable": true
   },
   "outputs": [
    {
     "name": "stdout",
     "output_type": "stream",
     "text": [
      "[1 1 1 1 1]\n",
      "[ 0.93469224  0.1219655   0.47217471  0.51343732  0.34714428]\n",
      "[[4 4 4]\n",
      " [4 4 4]\n",
      " [4 4 4]]\n",
      "[0 1 2 3 4 5]\n",
      "[ 1.          1.55555556  2.11111111  2.66666667  3.22222222  3.77777778\n",
      "  4.33333333  4.88888889  5.44444444  6.        ]\n",
      "[[ 1.  0.]\n",
      " [ 0.  1.]]\n",
      "[[1 0 0]\n",
      " [0 1 0]\n",
      " [0 0 1]]\n"
     ]
    }
   ],
   "source": [
    "import numpy as np\n",
    "\n",
    "print(np.ones(5, dtype=np.int8))\n",
    "\n",
    "print(np.random.random(5))\n",
    "\n",
    "print(np.full(shape=(3,3), fill_value=4, dtype=np.int8))\n",
    "\n",
    "print(np.arange(6))\n",
    "\n",
    "print(np.linspace(start=1, stop=6, num=10))\n",
    "\n",
    "print(np.eye(N=2))\n",
    "\n",
    "print(np.identity(n=3, dtype=np.int8))"
   ]
  },
  {
   "cell_type": "markdown",
   "metadata": {
    "deletable": true,
    "editable": true
   },
   "source": [
    "### 2.\n",
    "\n",
    "__Gracias a las distintas formas de indexar un array que nos permite NumPy, podemos hacer operaciones de forma vectorizada, evitando los bucles. Esto supone un incremento en la eficiencia del código y tener un código más corto y legible. Para ello, vamos a realizar el siguiente ejercicio.__\n",
    "\n",
    "__Genera una matriz aleatoria cuadrada de tamaño 1000. Una vez creada, genera una nueva matriz donde las filas y columnas 0 y $n-1$ estén repetidas 500 veces y el centro de la matriz quede exactamente igual a la original. Un ejemplo de esto lo podemos ver a continuación:__\n",
    "\n",
    "$$ \\left( \\begin{matrix} \n",
    "1 & 2 & 3 \\\\ \n",
    "2 & 3 & 4 \\\\ \n",
    "3 & 4 & 5\n",
    "\\end{matrix} \\right) \\Longrightarrow \\left( \\begin{matrix} \n",
    "1 & 1 & 1 & 2 & 3 & 3 & 3 \\\\ \n",
    "1 & 1 & 1 & 2 & 3 & 3 & 3 \\\\ \n",
    "1 & 1 & 1 & 2 & 3 & 3 & 3 \\\\ \n",
    "2 & 2 & 2 & 3 & 4 & 4 & 4 \\\\ \n",
    "3 & 3 & 3 & 4 & 5 & 5 & 5 \\\\ \n",
    "3 & 3 & 3 & 4 & 5 & 5 & 5 \\\\ \n",
    "3 & 3 & 3 & 4 & 5 & 5 & 5 \\end{matrix} \\right) $$\n",
    "\n",
    "__Impleméntalo usando un bucle `for` y vectorizando el cálculo usando lo anteriormente visto para ver la diferencias de tiempos usando ambas variantes. Para medir el tiempo, puedes usar el módulo `time`.__"
   ]
  },
  {
   "cell_type": "code",
   "execution_count": 15,
   "metadata": {
    "collapsed": false,
    "deletable": true,
    "editable": true
   },
   "outputs": [
    {
     "name": "stdout",
     "output_type": "stream",
     "text": [
      "[[0 1 2]\n",
      " [3 4 5]\n",
      " [6 7 8]]\n",
      "[[ 0.  0.  0.  1.  2.  2.  2.]\n",
      " [ 0.  0.  0.  1.  2.  2.  2.]\n",
      " [ 0.  0.  0.  1.  2.  2.  2.]\n",
      " [ 3.  3.  3.  4.  5.  5.  5.]\n",
      " [ 6.  6.  6.  7.  8.  8.  8.]\n",
      " [ 6.  6.  6.  7.  8.  8.  8.]\n",
      " [ 6.  6.  6.  7.  8.  8.  8.]]\n",
      "Tiempo con bucle for:  0.5128839015960693  s\n"
     ]
    }
   ],
   "source": [
    "from time import time\n",
    "\n",
    "def clona_cols_rows(size=1000, clone=500, print_matrix=False,\n",
    "                   create_random=True):\n",
    "    if create_random:\n",
    "        m = np.random.random((size,size))\n",
    "    else:\n",
    "        m = np.arange(size*size).reshape(size,size)\n",
    "    \n",
    "    n = np.zeros((size+clone*2, size+clone*2))\n",
    "    \n",
    "    antes = time()\n",
    "    # en primer lugar, copiamos m en el centro de n\n",
    "    for i in range(size):\n",
    "        for j in range(size):\n",
    "            n[i+clone, j+clone] = m[i,j]\n",
    "    # después, copiamos la primera fila/columna en las \n",
    "    # primeras clone filas/columnas\n",
    "    for i in range(clone):\n",
    "        n[i,clone:clone+size] = m[0]\n",
    "        n[clone:clone+size, i] = m[:,0]\n",
    "    # una vez copiada la primera fila/columna, pasamos a \n",
    "    # copiar la última/columna\n",
    "    for i in range(clone+size, size+clone*2):\n",
    "        n[i, clone:clone+size] = m[-1]\n",
    "        n[clone:clone+size, i] = m[:,-1]\n",
    "    # por último, copiamos los valores de los extremos en las esquinas\n",
    "    for i in range(clone):\n",
    "        n[i, :clone] = np.full(clone, m[0,0])\n",
    "        n[i, size+clone:] = np.full(clone, m[0,-1])\n",
    "        n[i+size+clone, :clone] = np.full(clone, m[-1,0])\n",
    "        n[i+size+clone, size+clone:] = np.full(clone, m[-1,-1])\n",
    "    despues = time()\n",
    "    \n",
    "    if print_matrix:\n",
    "        print(m)\n",
    "        print(n)\n",
    "    return despues-antes\n",
    "\n",
    "clona_cols_rows(size=3, clone=2, print_matrix=True, create_random=False)\n",
    "\n",
    "print(\"Tiempo con bucle for: \", clona_cols_rows(), \" s\")"
   ]
  },
  {
   "cell_type": "code",
   "execution_count": 26,
   "metadata": {
    "collapsed": false,
    "deletable": true,
    "editable": true
   },
   "outputs": [
    {
     "name": "stdout",
     "output_type": "stream",
     "text": [
      "[[0 1 2]\n",
      " [3 4 5]\n",
      " [6 7 8]]\n",
      "[[ 0.  0.  0.  1.  2.  2.  2.]\n",
      " [ 0.  0.  0.  1.  2.  2.  2.]\n",
      " [ 0.  0.  0.  1.  2.  2.  2.]\n",
      " [ 3.  3.  3.  4.  5.  5.  5.]\n",
      " [ 6.  6.  6.  7.  8.  8.  8.]\n",
      " [ 6.  6.  6.  7.  8.  8.  8.]\n",
      " [ 6.  6.  6.  7.  8.  8.  8.]]\n",
      "Tiempo vectorizando:  0.01746535301208496  s\n"
     ]
    }
   ],
   "source": [
    "def clona_vec_cols_rows(size=1000, clone=500, print_matrix=False,\n",
    "                       create_random=True):\n",
    "    if create_random:\n",
    "        m = np.random.random((size,size))\n",
    "    else:\n",
    "        m = np.arange(size*size).reshape(size,size)\n",
    "        \n",
    "    n = np.zeros((size+clone*2, size+clone*2))\n",
    "    \n",
    "    antes=time()\n",
    "    # en primer lugar, insertamos m en el centro de n\n",
    "    n[clone:clone+size, clone:clone+size] = m\n",
    "    # Copiamos la primera fila de m, en las primeras filas\n",
    "    # de n, y la última fila de m en las últimas filas de n\n",
    "    n[:clone, clone:clone+size] = m[0]\n",
    "    n[size+clone:, clone:size+clone] = m[-1]\n",
    "    # Lo mismo para las columnas\n",
    "    n[:, :clone] = np.repeat(n[:,clone],clone).reshape(2*clone+size, clone)\n",
    "    n[:, size+clone:] = np.repeat(n[:,-(clone+1)],clone).reshape(2*clone+size, clone)\n",
    "\n",
    "    despues=time()\n",
    "    \n",
    "    if print_matrix:\n",
    "        print(m)\n",
    "        print(n)\n",
    "    return despues-antes\n",
    "\n",
    "clona_vec_cols_rows(size=3, clone=2, print_matrix=True, create_random=False)\n",
    "\n",
    "print(\"Tiempo vectorizando: \", clona_vec_cols_rows(), \" s\")"
   ]
  },
  {
   "cell_type": "markdown",
   "metadata": {
    "deletable": true,
    "editable": true
   },
   "source": [
    "### 3.\n",
    "\n",
    "__Una matriz de rotación $R$ es una matriz que representa una rotación en el espacio euclídeo. Esta matriz $R$ se representa como__\n",
    "\n",
    "$$ R = \\left( \\begin{matrix} \\cos\\theta & -\\sin\\theta \\\\ \n",
    "\\sin\\theta & -\\cos\\theta \n",
    "\\end{matrix} \\right) $$ \n",
    "\n",
    "__donde $\\theta$ es el número de ángulos rotados en sentido antihorario.__\n",
    "\n",
    "__Estas matrices son muy usadas en geometría, informática o física. Un ejemplo de uso de estas matrices puede ser el cálculo de una rotación de un objeto en un sistema gráfico, la rotación de una cámara respecto a un punto en el espacio, etc.__\n",
    "\n",
    "__Estas matrices tienen como propiedades que son *matrices ortogonales* (su inversa y su traspuesta son iguales) y su *determinante es igual a 1*. Por tanto, genera un array y muestra si ese array es una matriz de rotación.__"
   ]
  },
  {
   "cell_type": "code",
   "execution_count": 17,
   "metadata": {
    "collapsed": false,
    "deletable": true,
    "editable": true
   },
   "outputs": [
    {
     "name": "stdout",
     "output_type": "stream",
     "text": [
      "No es matriz de rotación u_u\n"
     ]
    }
   ],
   "source": [
    "R = np.random.random((2,2))\n",
    "\n",
    "if (R.T == np.linalg.inv(R)).all() and np.linalg.det(R) == 1:\n",
    "    print(\"Matriz de rotación!\")\n",
    "else:\n",
    "    print(\"No es matriz de rotación u_u\")"
   ]
  },
  {
   "cell_type": "markdown",
   "metadata": {
    "collapsed": true,
    "deletable": true,
    "editable": true
   },
   "source": [
    "### 4.\n",
    "\n",
    "__Dados el array que se ve a continuación, realiza los siguientes apartados:__"
   ]
  },
  {
   "cell_type": "code",
   "execution_count": 18,
   "metadata": {
    "collapsed": true,
    "deletable": true,
    "editable": true
   },
   "outputs": [],
   "source": [
    "array1 = np.array([ -1., 4., -9.])"
   ]
  },
  {
   "cell_type": "markdown",
   "metadata": {
    "deletable": true,
    "editable": true
   },
   "source": [
    "- __Multiplica array1 por $\\frac{\\pi}{4}$ y calcula el seno del array resultante.__\n",
    "\n",
    "- __Genera un nuevo array cuyo valor sea el doble del resultado anterior mas el vector `array1`.__\n",
    "\n",
    "- __Calcula la norma del vector resultante. Para ello, consulta la documentación para ver qué función realiza esta tarea, y ten en cuenta los parámetros que recibe.__"
   ]
  },
  {
   "cell_type": "code",
   "execution_count": 19,
   "metadata": {
    "collapsed": false,
    "deletable": true,
    "editable": true
   },
   "outputs": [
    {
     "data": {
      "text/plain": [
       "array([ -7.07106781e-01,   1.22464680e-16,  -7.07106781e-01])"
      ]
     },
     "execution_count": 19,
     "metadata": {},
     "output_type": "execute_result"
    }
   ],
   "source": [
    "array2 = np.sin(array1 * np.pi/4)\n",
    "array2"
   ]
  },
  {
   "cell_type": "code",
   "execution_count": 20,
   "metadata": {
    "collapsed": false,
    "deletable": true,
    "editable": true
   },
   "outputs": [
    {
     "data": {
      "text/plain": [
       "array([ -2.41421356,   4.        , -10.41421356])"
      ]
     },
     "execution_count": 20,
     "metadata": {},
     "output_type": "execute_result"
    }
   ],
   "source": [
    "array3 = array2 * 2 + array1\n",
    "array3"
   ]
  },
  {
   "cell_type": "code",
   "execution_count": 21,
   "metadata": {
    "collapsed": false,
    "deletable": true,
    "editable": true
   },
   "outputs": [
    {
     "data": {
      "text/plain": [
       "11.414213562373094"
      ]
     },
     "execution_count": 21,
     "metadata": {},
     "output_type": "execute_result"
    }
   ],
   "source": [
    "np.linalg.norm(array3)"
   ]
  },
  {
   "cell_type": "markdown",
   "metadata": {
    "deletable": true,
    "editable": true
   },
   "source": [
    "### 5.\n",
    "\n",
    "__Dada la siguiente matriz, realiza los siguientes apartados:__"
   ]
  },
  {
   "cell_type": "code",
   "execution_count": 22,
   "metadata": {
    "collapsed": true,
    "deletable": true,
    "editable": true
   },
   "outputs": [],
   "source": [
    "n_array1 =  np.array([[ 1., 3., 5.], [7., -9., 2.], [4., 6., 8.]])"
   ]
  },
  {
   "cell_type": "markdown",
   "metadata": {
    "deletable": true,
    "editable": true
   },
   "source": [
    "- __Calcula la media y la desviación típica de la matriz.__\n",
    "- __Obtén el elemento mínimo y máximo de la matriz.__\n",
    "- __Calcula el determinante, la traza y la traspuesta de la matriz.__\n",
    "- __Calcula la descomposición en valores singulares de la matriz.__\n",
    "- __Calcula el valor de la suma de los elementos de la diagonal principal de la matriz.__"
   ]
  },
  {
   "cell_type": "code",
   "execution_count": 23,
   "metadata": {
    "collapsed": false,
    "deletable": true,
    "editable": true
   },
   "outputs": [
    {
     "name": "stdout",
     "output_type": "stream",
     "text": [
      "Media = 3.0  y desv típica = 4.7609522857\n"
     ]
    }
   ],
   "source": [
    "media = np.mean(n_array1)\n",
    "desv_tipica = np.std(n_array1)\n",
    "\n",
    "print(\"Media =\", media, \" y desv típica =\", desv_tipica)"
   ]
  },
  {
   "cell_type": "code",
   "execution_count": 24,
   "metadata": {
    "collapsed": false,
    "deletable": true,
    "editable": true
   },
   "outputs": [
    {
     "name": "stdout",
     "output_type": "stream",
     "text": [
      "Máximo = 8.0  y minimo = -9.0\n"
     ]
    }
   ],
   "source": [
    "maximo = np.max(n_array1)\n",
    "minimo = np.min(n_array1)\n",
    "\n",
    "print(\"Máximo =\", maximo, \" y minimo =\", minimo)"
   ]
  },
  {
   "cell_type": "code",
   "execution_count": 25,
   "metadata": {
    "collapsed": false,
    "deletable": true,
    "editable": true
   },
   "outputs": [],
   "source": [
    "det = np.linalg.det(n_array1)\n",
    "traza = np.trace(n_array1)\n",
    "traspuesta = n_array1.T"
   ]
  },
  {
   "cell_type": "code",
   "execution_count": null,
   "metadata": {
    "collapsed": true,
    "deletable": true,
    "editable": true
   },
   "outputs": [],
   "source": []
  }
 ],
 "metadata": {
  "kernelspec": {
   "display_name": "Python 3",
   "language": "python",
   "name": "python3"
  },
  "language_info": {
   "codemirror_mode": {
    "name": "ipython",
    "version": 3
   },
   "file_extension": ".py",
   "mimetype": "text/x-python",
   "name": "python",
   "nbconvert_exporter": "python",
   "pygments_lexer": "ipython3",
   "version": "3.6.0"
  }
 },
 "nbformat": 4,
 "nbformat_minor": 2
}
