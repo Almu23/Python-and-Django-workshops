{
 "cells": [
  {
   "cell_type": "markdown",
   "metadata": {
    "deletable": true,
    "editable": true
   },
   "source": [
    "# Soluciones a los ejercicios propuestos\n",
    "## Nivel básico"
   ]
  },
  {
   "cell_type": "markdown",
   "metadata": {
    "deletable": true,
    "editable": true
   },
   "source": [
    "### 1.\n",
    "\n",
    "__Haz un pequeño programa que le pida al usuario introducir dos números ($x_1$ y $x_2$), calcule la siguiente operación y muestre el resultado de la misma ($x$):__\n",
    "\n",
    "$$ x = \\frac{20 * x_1 - x_2}{x_2 + 3} $$\n",
    "\n",
    "__Si intentas operar con el resultado de la función input obtendrás un error que te informa que no se pueden restar dos datos de tipo str. Usa la función int para convertir los datos introducidos por teclado a datos numéricos.__"
   ]
  },
  {
   "cell_type": "code",
   "execution_count": 1,
   "metadata": {
    "collapsed": false,
    "deletable": true,
    "editable": true
   },
   "outputs": [
    {
     "name": "stdout",
     "output_type": "stream",
     "text": [
      "Introduce un número: 5\n",
      "Y ahora otro: 6\n",
      "x = 10.444444444444445\n"
     ]
    }
   ],
   "source": [
    "x1 = int(input(\"Introduce un número: \"))\n",
    "x2 = int(input(\"Y ahora otro: \"))\n",
    "x = (20 * x1 - x2)/(x2 + 3)\n",
    "\n",
    "print(\"x =\",x)"
   ]
  },
  {
   "cell_type": "markdown",
   "metadata": {
    "deletable": true,
    "editable": true
   },
   "source": [
    "### 2.\n",
    "\n",
    "__Haz un programa que le pida al usuario un número (de ninjas). Si dicho número es menor que 50 y es par, el programa imprimirá \"puedo con ellos!\", en caso contrario imprimirá \"no me vendría mal una ayudita...\"__\n",
    "\n",
    "Nota: para saber si un número es par o no debes usar el operador $\\%$ y para saber si dos condiciones se cuplen a la vez, el operador lógico and\n"
   ]
  },
  {
   "cell_type": "code",
   "execution_count": 2,
   "metadata": {
    "collapsed": false,
    "deletable": true,
    "editable": true
   },
   "outputs": [
    {
     "name": "stdout",
     "output_type": "stream",
     "text": [
      "Introduce número de ninjas: 51\n",
      "No me vendría mal una ayudita...\n"
     ]
    }
   ],
   "source": [
    "num = int(input(\"Introduce número de ninjas: \"))\n",
    "if num < 50 and num%2==0:\n",
    "    print(\"Puedo con ellos!\")\n",
    "else:\n",
    "    print(\"No me vendría mal una ayudita...\")"
   ]
  },
  {
   "cell_type": "markdown",
   "metadata": {
    "deletable": true,
    "editable": true
   },
   "source": [
    "### 3.\n",
    "\n",
    "__Haz un bucle `while` que imprima todos los números desde el 0 hasta un número que introduzca el usuario. Si el número que introduce es negativo puedes tomar dos decisiones: pedirle que introduzca un número positivo o contar hacia atrás, tú eliges!__"
   ]
  },
  {
   "cell_type": "code",
   "execution_count": 3,
   "metadata": {
    "collapsed": false,
    "deletable": true,
    "editable": true
   },
   "outputs": [
    {
     "name": "stdout",
     "output_type": "stream",
     "text": [
      "Intoduce un número: -5\n",
      "Introduce un número: 5\n",
      "0\n",
      "1\n",
      "2\n",
      "3\n",
      "4\n",
      "5\n"
     ]
    }
   ],
   "source": [
    "num = int(input(\"Intoduce un número: \"))\n",
    "\n",
    "# Opción 1: si el usuario introduce un número negativo pedir otro número\n",
    "while num < 0:\n",
    "    num = int(input(\"Introduce un número: \"))\n",
    "\n",
    "i = 0\n",
    "while i <= num:\n",
    "    print(i)\n",
    "    i += 1"
   ]
  },
  {
   "cell_type": "code",
   "execution_count": 4,
   "metadata": {
    "collapsed": false,
    "deletable": true,
    "editable": true
   },
   "outputs": [
    {
     "name": "stdout",
     "output_type": "stream",
     "text": [
      "Intoduce un número: -5\n",
      "0\n",
      "-1\n",
      "-2\n",
      "-3\n",
      "-4\n",
      "-5\n"
     ]
    }
   ],
   "source": [
    "num = int(input(\"Intoduce un número: \"))\n",
    "\n",
    "# Opción 2: si el usuario introduce un número negativo, contar hacia atrás\n",
    "sign = lambda x: (1, -1)[x < 0]\n",
    "\n",
    "i = 0\n",
    "s = sign(num)\n",
    "while i*s <= num*s:\n",
    "    print(i)\n",
    "    i += s"
   ]
  },
  {
   "cell_type": "markdown",
   "metadata": {
    "collapsed": true,
    "deletable": true,
    "editable": true
   },
   "source": [
    "### 4.\n",
    "\n",
    "__Genera con range los números pares del 0 al 10, ambos inclusive. ¿Qué cambiarías para generar del 2 al 10?__"
   ]
  },
  {
   "cell_type": "code",
   "execution_count": 5,
   "metadata": {
    "collapsed": false,
    "deletable": true,
    "editable": true
   },
   "outputs": [
    {
     "name": "stdout",
     "output_type": "stream",
     "text": [
      "0\n",
      "1\n",
      "2\n",
      "3\n",
      "4\n",
      "5\n",
      "6\n",
      "7\n",
      "8\n",
      "9\n",
      "10\n"
     ]
    }
   ],
   "source": [
    "# Para generar del 0 al 10 ambos inclusive:\n",
    "for i in range(0,11):\n",
    "    print(i)"
   ]
  },
  {
   "cell_type": "code",
   "execution_count": 6,
   "metadata": {
    "collapsed": false,
    "deletable": true,
    "editable": true
   },
   "outputs": [
    {
     "name": "stdout",
     "output_type": "stream",
     "text": [
      "2\n",
      "4\n",
      "6\n",
      "8\n",
      "10\n"
     ]
    }
   ],
   "source": [
    "# Para generar del 2 al 10 sólo con números pares\n",
    "for i in range(2, 11, 2):\n",
    "    print(i)"
   ]
  },
  {
   "cell_type": "markdown",
   "metadata": {
    "deletable": true,
    "editable": true
   },
   "source": [
    "### 5.\n",
    "__¿Cuál es la diferencia entre la sentencia `break` y la sentencia `continue`?__"
   ]
  },
  {
   "cell_type": "markdown",
   "metadata": {
    "deletable": true,
    "editable": true
   },
   "source": [
    "Cuando en un bucle se lee una instrucción `break` o una instrucción `continue`, se interumpe la iteración actual. Ahora bien, en el caso de `break`, se abandona el bucle y en el caso de `continue` se pasa a la siguiente iteración. Por ejemplo, el siguiente bucle imprime si un número es par o impar:"
   ]
  },
  {
   "cell_type": "code",
   "execution_count": 7,
   "metadata": {
    "collapsed": false,
    "deletable": true,
    "editable": true
   },
   "outputs": [
    {
     "name": "stdout",
     "output_type": "stream",
     "text": [
      "2 es par!\n",
      "3 es impar!\n",
      "4 es par!\n",
      "5 es impar!\n",
      "6 es par!\n",
      "7 es impar!\n",
      "8 es par!\n",
      "9 es impar!\n"
     ]
    }
   ],
   "source": [
    "for num in range(2,10):\n",
    "    if num % 2 == 0:\n",
    "        print(num, \"es par!\")\n",
    "        continue\n",
    "    print(num, \"es impar!\")"
   ]
  },
  {
   "cell_type": "markdown",
   "metadata": {
    "deletable": true,
    "editable": true
   },
   "source": [
    "### 6.\n",
    "\n",
    "__Haz una lista de la compra e imprime los siguientes elementos:__\n",
    "\n",
    "* __Penúltimo elemento__\n",
    "* __Del segundo al cuarto elemento__\n",
    "* __Los tres últimos__\n",
    "* __Todos!__\n",
    "\n",
    "__Por último, elimina el tercer elemento de la lista usando la sentencia `del`__\n"
   ]
  },
  {
   "cell_type": "code",
   "execution_count": 8,
   "metadata": {
    "collapsed": false,
    "deletable": true,
    "editable": true
   },
   "outputs": [
    {
     "name": "stdout",
     "output_type": "stream",
     "text": [
      "Penúltimo elemento:  Arroz\n",
      "Del segundo al cuarto elemento:  ['Chocolate', 'Arroz', 'Macarrones']\n",
      "Los tres últimos elementos:  ['Chocolate', 'Arroz', 'Macarrones']\n",
      "Todos:  ['Leche', 'Chocolate', 'Arroz', 'Macarrones']\n",
      "['Leche', 'Chocolate', 'Macarrones']\n"
     ]
    }
   ],
   "source": [
    "lista_compra = ['Leche', 'Chocolate', 'Arroz', 'Macarrones']\n",
    "\n",
    "print(\"Penúltimo elemento: \", lista_compra[-2])\n",
    "print(\"Del segundo al cuarto elemento: \", lista_compra[1:5])\n",
    "print(\"Los tres últimos elementos: \", lista_compra[-3:])\n",
    "print(\"Todos: \", lista_compra)\n",
    "\n",
    "del lista_compra[2]\n",
    "print(lista_compra)"
   ]
  },
  {
   "cell_type": "markdown",
   "metadata": {
    "deletable": true,
    "editable": true
   },
   "source": [
    "### 7.\n",
    "\n",
    "__Crea una lista con todos los números pares del 0 al 10 en una única línea.__"
   ]
  },
  {
   "cell_type": "code",
   "execution_count": 9,
   "metadata": {
    "collapsed": false,
    "deletable": true,
    "editable": true
   },
   "outputs": [
    {
     "data": {
      "text/plain": [
       "[0, 2, 4, 6, 8]"
      ]
     },
     "execution_count": 9,
     "metadata": {},
     "output_type": "execute_result"
    }
   ],
   "source": [
    "# solución 1:\n",
    "[x for x in range(10) if x%2==0]"
   ]
  },
  {
   "cell_type": "code",
   "execution_count": 10,
   "metadata": {
    "collapsed": false,
    "deletable": true,
    "editable": true
   },
   "outputs": [
    {
     "data": {
      "text/plain": [
       "[0, 2, 4, 6, 8]"
      ]
     },
     "execution_count": 10,
     "metadata": {},
     "output_type": "execute_result"
    }
   ],
   "source": [
    "# solución 2:\n",
    "list(range(0,10,2))"
   ]
  },
  {
   "cell_type": "markdown",
   "metadata": {
    "deletable": true,
    "editable": true
   },
   "source": [
    "### 8.\n",
    "\n",
    "__Crea la siguiente matriz en una línea:__\n",
    "\n",
    "$$ M_{2 \\times 3} = \\left( \\begin{matrix} 1 & 2 & 3 \\\\ \n",
    "4 & 5 & 6 \\end{matrix} \\right)$$"
   ]
  },
  {
   "cell_type": "code",
   "execution_count": 11,
   "metadata": {
    "collapsed": false,
    "deletable": true,
    "editable": true
   },
   "outputs": [
    {
     "data": {
      "text/plain": [
       "[[1, 2, 3], [4, 5, 6]]"
      ]
     },
     "execution_count": 11,
     "metadata": {},
     "output_type": "execute_result"
    }
   ],
   "source": [
    "[[j for j in range(i*i, i*i+3)] for i in range(1,3)]"
   ]
  },
  {
   "cell_type": "markdown",
   "metadata": {
    "deletable": true,
    "editable": true
   },
   "source": [
    "### 9.\n",
    "\n",
    "__Vuelve a hacer la lista de la compra que hiciste en el último ejercicio, pero esta vez guarda cada elemento de la lista de la compra junto con su precio. Después, imprime los siguientes elementos:__\n",
    "\n",
    "* __El precio del tercer elemento.__\n",
    "* __El nombre del último elemento.__\n",
    "* __Tanto el nombre como el precio del primer elemento.__\n"
   ]
  },
  {
   "cell_type": "code",
   "execution_count": 12,
   "metadata": {
    "collapsed": false,
    "deletable": true,
    "editable": true
   },
   "outputs": [
    {
     "name": "stdout",
     "output_type": "stream",
     "text": [
      "Precio del tercer elemento:  1.5\n",
      "Nombre del último elemento:  Macarrones\n",
      "Nombre y precio del primer elemento ('Leche', 2)\n"
     ]
    }
   ],
   "source": [
    "tuplas_compra = [('Leche', 2), ('Chocolate', 1), ('Arroz', 1.5), \n",
    "                 ('Macarrones', 2.1)]\n",
    "print(\"Precio del tercer elemento: \", tuplas_compra[2][1])\n",
    "print(\"Nombre del último elemento: \", tuplas_compra[-1][0])\n",
    "print(\"Nombre y precio del primer elemento\", tuplas_compra[0])"
   ]
  },
  {
   "cell_type": "markdown",
   "metadata": {
    "deletable": true,
    "editable": true
   },
   "source": [
    "### 10.\n",
    "\n",
    "__¿Es buena idea usar la función `set` para eliminar los elementos repetidos de una lista?__"
   ]
  },
  {
   "cell_type": "markdown",
   "metadata": {
    "deletable": true,
    "editable": true
   },
   "source": [
    "Al usar la función `set` para eliminar los elementos repetidos de una lista perdemos el orden original de nuestra lista. Además, no funcionará si nuestra lista es de diccionarios o de listas, debido a que no son objetos _hashables_."
   ]
  },
  {
   "cell_type": "markdown",
   "metadata": {
    "collapsed": true,
    "deletable": true,
    "editable": true
   },
   "source": [
    "### 11.\n",
    "\n",
    "__Usando la tupla que creaste en el ejercicio sobre tuplas, crea un diccionario de tu lista de la compra. Una vez tengas el diccionario creado:__\n",
    "\n",
    "* __Imprime todos los elementos que vayas a comprar creando la siguiente frase con la función `format`:__ \"he comprado `__` y me ha costado `__`\".\n",
    "* __Consulta si has añadido un determinado elemento (por ejemplo un cartón de leche) a la lista de la compra__\n",
    "* __Elimina un elemento usando la función `del`__\n"
   ]
  },
  {
   "cell_type": "code",
   "execution_count": 21,
   "metadata": {
    "collapsed": false
   },
   "outputs": [
    {
     "name": "stdout",
     "output_type": "stream",
     "text": [
      "he comprado Leche y me ha costado 2\n",
      "he comprado Chocolate y me ha costado 1\n",
      "he comprado Arroz y me ha costado 1.5\n",
      "he comprado Macarrones y me ha costado 2.1\n",
      "He comprado leche? True\n",
      "{'Leche': 2, 'Chocolate': 1, 'Macarrones': 2.1}\n"
     ]
    }
   ],
   "source": [
    "dict_compra = dict(tuplas_compra)\n",
    "\n",
    "for compra in dict_compra.items():\n",
    "    print(\"he comprado {} y me ha costado {}\".format(compra[0], compra[1]))\n",
    "\n",
    "print('He comprado leche?', 'Leche' in dict_compra)\n",
    "\n",
    "del dict_compra['Arroz']\n",
    "print(dict_compra)"
   ]
  },
  {
   "cell_type": "code",
   "execution_count": null,
   "metadata": {
    "collapsed": true
   },
   "outputs": [],
   "source": []
  }
 ],
 "metadata": {
  "kernelspec": {
   "display_name": "Python 3",
   "language": "python",
   "name": "python3"
  },
  "language_info": {
   "codemirror_mode": {
    "name": "ipython",
    "version": 3
   },
   "file_extension": ".py",
   "mimetype": "text/x-python",
   "name": "python",
   "nbconvert_exporter": "python",
   "pygments_lexer": "ipython3",
   "version": "3.6.0"
  }
 },
 "nbformat": 4,
 "nbformat_minor": 2
}
